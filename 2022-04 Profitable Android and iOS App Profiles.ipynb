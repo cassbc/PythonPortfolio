{
 "cells": [
  {
   "cell_type": "markdown",
   "metadata": {},
   "source": [
    "# App Development Opportunities: Profitable Free App Profiles for both Android and iOS\n",
    "\n",
    "The aim of the is project is to develop a profile for an app that is likely to be popular in both iOS and Android app markets.\n",
    "\n",
    "Our company is an app development company, and we create free apps that utilise in-app adveritising, our main source of revenue. To maximise this revenue, we want our next app to be as popular as possible across both the Google Playstore and the Apple App Store.\n",
    "\n",
    "This project will help to inform our game developers on the types of apps that are likely to have a larger user base."
   ]
  },
  {
   "cell_type": "markdown",
   "metadata": {},
   "source": [
    "## Importing and Explorting the Data\n",
    "\n",
    "The Google Playstore and the Apple App Store are by far the two largest markets for apps. In April 2022, there were 3.4 million apps on Google Playstore, and 2.2 million on the Apple App Store. Source: [Statista](https://www.statista.com/statistics/276623/number-of-apps-available-in-leading-app-stores/#:~:text=Number%20of%20apps%20available%20in%20leading%20app%20stores%202021&text=As%20of%20the%20first%20quarter,million%20available%20apps%20for%20iOS)\n",
    "\n",
    "It would be difficult and costly to source a dataset that comprises of all of these apps, so a sample dataset was sought for this project instead. \n",
    "\n",
    "Two free, relevant sources of Apple App Store and Google Playstore data were found:\n",
    "\n",
    "- Apple Store - [Available for download here](https://www.kaggle.com/datasets/ramamet4/app-store-apple-data-set-10k-apps). This dataset contains approximately 7000 entries and was collected in July 2017.\n",
    "- Google Playstore - [Avaialble for download here](https://www.kaggle.com/datasets/lava18/google-play-store-apps). This dataset contains approximately 10,000 entries and was lated updated in 2019."
   ]
  },
  {
   "cell_type": "code",
   "execution_count": 1,
   "metadata": {},
   "outputs": [],
   "source": [
    "import pandas as pd\n",
    "from csv import reader"
   ]
  },
  {
   "cell_type": "code",
   "execution_count": 2,
   "metadata": {},
   "outputs": [],
   "source": [
    "appstore_data = open('AppleStore.csv')\n",
    "playstore_data = open('googleplaystore.csv')"
   ]
  },
  {
   "cell_type": "code",
   "execution_count": 3,
   "metadata": {},
   "outputs": [],
   "source": [
    "g_reading_data = reader(playstore_data)\n",
    "android = list(g_reading_data)\n",
    "\n",
    "a_reading_data = reader(appstore_data)\n",
    "apple = list(a_reading_data)"
   ]
  },
  {
   "cell_type": "markdown",
   "metadata": {},
   "source": [
    "Below, we're going to build a function that makes it easier to explore the two datasets - _explore_data_. It will display the data in a more legible way by adding lines between rows, and describing the number of columns and rows."
   ]
  },
  {
   "cell_type": "code",
   "execution_count": 4,
   "metadata": {},
   "outputs": [],
   "source": [
    "def explore_data(dataset, start, end, rows_and_columns=False):\n",
    "    dataset_slice = dataset[start:end]    \n",
    "    for row in dataset_slice:\n",
    "        print(row)\n",
    "        print('\\n') # adds a new (empty) line after each row\n",
    "\n",
    "    if rows_and_columns:\n",
    "        print('Number of rows:', len(dataset))\n",
    "        print('Number of columns:', len(dataset[0]))"
   ]
  },
  {
   "cell_type": "code",
   "execution_count": 5,
   "metadata": {},
   "outputs": [
    {
     "name": "stdout",
     "output_type": "stream",
     "text": [
      "['id', 'track_name', 'size_bytes', 'currency', 'price', 'rating_count_tot', 'rating_count_ver', 'user_rating', 'user_rating_ver', 'ver', 'cont_rating', 'prime_genre', 'sup_devices.num', 'ipadSc_urls.num', 'lang.num', 'vpp_lic']\n",
      "\n",
      "\n",
      "['284882215', 'Facebook', '389879808', 'USD', '0.0', '2974676', '212', '3.5', '3.5', '95.0', '4+', 'Social Networking', '37', '1', '29', '1']\n",
      "\n",
      "\n",
      "['389801252', 'Instagram', '113954816', 'USD', '0.0', '2161558', '1289', '4.5', '4.0', '10.23', '12+', 'Photo & Video', '37', '0', '29', '1']\n",
      "\n",
      "\n",
      "['529479190', 'Clash of Clans', '116476928', 'USD', '0.0', '2130805', '579', '4.5', '4.5', '9.24.12', '9+', 'Games', '38', '5', '18', '1']\n",
      "\n",
      "\n",
      "['420009108', 'Temple Run', '65921024', 'USD', '0.0', '1724546', '3842', '4.5', '4.0', '1.6.2', '9+', 'Games', '40', '5', '1', '1']\n",
      "\n",
      "\n",
      "Number of rows: 7198\n",
      "Number of columns: 16\n"
     ]
    }
   ],
   "source": [
    "explore_data(apple, 0, 5, True)"
   ]
  },
  {
   "cell_type": "code",
   "execution_count": 6,
   "metadata": {},
   "outputs": [
    {
     "name": "stdout",
     "output_type": "stream",
     "text": [
      "['App', 'Category', 'Rating', 'Reviews', 'Size', 'Installs', 'Type', 'Price', 'Content Rating', 'Genres', 'Last Updated', 'Current Ver', 'Android Ver']\n",
      "\n",
      "\n",
      "['Photo Editor & Candy Camera & Grid & ScrapBook', 'ART_AND_DESIGN', '4.1', '159', '19M', '10,000+', 'Free', '0', 'Everyone', 'Art & Design', 'January 7, 2018', '1.0.0', '4.0.3 and up']\n",
      "\n",
      "\n",
      "['Coloring book moana', 'ART_AND_DESIGN', '3.9', '967', '14M', '500,000+', 'Free', '0', 'Everyone', 'Art & Design;Pretend Play', 'January 15, 2018', '2.0.0', '4.0.3 and up']\n",
      "\n",
      "\n",
      "['U Launcher Lite – FREE Live Cool Themes, Hide Apps', 'ART_AND_DESIGN', '4.7', '87510', '8.7M', '5,000,000+', 'Free', '0', 'Everyone', 'Art & Design', 'August 1, 2018', '1.2.4', '4.0.3 and up']\n",
      "\n",
      "\n",
      "['Sketch - Draw & Paint', 'ART_AND_DESIGN', '4.5', '215644', '25M', '50,000,000+', 'Free', '0', 'Teen', 'Art & Design', 'June 8, 2018', 'Varies with device', '4.2 and up']\n",
      "\n",
      "\n",
      "Number of rows: 10842\n",
      "Number of columns: 13\n"
     ]
    }
   ],
   "source": [
    "explore_data(android, 0, 5, True)"
   ]
  },
  {
   "cell_type": "code",
   "execution_count": 7,
   "metadata": {},
   "outputs": [
    {
     "name": "stdout",
     "output_type": "stream",
     "text": [
      "['App', 'Category', 'Rating', 'Reviews', 'Size', 'Installs', 'Type', 'Price', 'Content Rating', 'Genres', 'Last Updated', 'Current Ver', 'Android Ver']\n",
      "['id', 'track_name', 'size_bytes', 'currency', 'price', 'rating_count_tot', 'rating_count_ver', 'user_rating', 'user_rating_ver', 'ver', 'cont_rating', 'prime_genre', 'sup_devices.num', 'ipadSc_urls.num', 'lang.num', 'vpp_lic']\n"
     ]
    }
   ],
   "source": [
    "apple_header = apple[0]\n",
    "android_header = android[0]\n",
    "print(android_header)\n",
    "print(apple_header)"
   ]
  },
  {
   "cell_type": "markdown",
   "metadata": {},
   "source": [
    "The datasets have some differing categories but overall there are interesting columns here to consider further:\n",
    "<br><br>\n",
    "Google Playstore:\n",
    "- App (name of app)\n",
    "- Price\n",
    "- Category\n",
    "- Rating\n",
    "- Installs\n",
    "- Genres\n",
    "\n",
    "Apple:\n",
    "- track_name (name of app)\n",
    "- currency\n",
    "- price\n",
    "- rating_count_tot\n",
    "- user_rating\n",
    "- prime_genre"
   ]
  },
  {
   "cell_type": "markdown",
   "metadata": {},
   "source": [
    "## Cleaning the Data"
   ]
  },
  {
   "cell_type": "markdown",
   "metadata": {},
   "source": [
    "One of the helpful aspects of using open source, free data like these, is that there is an established community of other users who have already identified dataset issues.\n",
    "\n",
    "### Erroneous Entries\n",
    "On the community discussion around the Google Playstore dataset, there is indication that there is an error with one of the entries, 10472. It is allegedly missing a column. Find the discussion [here](https://www.kaggle.com/datasets/lava18/google-play-store-apps/discussion/66015)"
   ]
  },
  {
   "cell_type": "code",
   "execution_count": 8,
   "metadata": {},
   "outputs": [
    {
     "name": "stdout",
     "output_type": "stream",
     "text": [
      "['Life Made WI-Fi Touchscreen Photo Frame', '1.9', '19', '3.0M', '1,000+', 'Free', '0', 'Everyone', '', 'February 11, 2018', '1.0.19', '4.0 and up']\n"
     ]
    }
   ],
   "source": [
    "print(android[10473]) #adding a digit to accomodate my header"
   ]
  },
  {
   "cell_type": "markdown",
   "metadata": {},
   "source": [
    "The above is the erroneous line as reported in the discussion."
   ]
  },
  {
   "cell_type": "code",
   "execution_count": 9,
   "metadata": {},
   "outputs": [
    {
     "data": {
      "text/plain": [
       "12"
      ]
     },
     "execution_count": 9,
     "metadata": {},
     "output_type": "execute_result"
    }
   ],
   "source": [
    "len(android[10473]) # checking whether this row has the same number of categories as the header"
   ]
  },
  {
   "cell_type": "code",
   "execution_count": 10,
   "metadata": {},
   "outputs": [
    {
     "data": {
      "text/plain": [
       "13"
      ]
     },
     "execution_count": 10,
     "metadata": {},
     "output_type": "execute_result"
    }
   ],
   "source": [
    "len(android_header)"
   ]
  },
  {
   "cell_type": "markdown",
   "metadata": {},
   "source": [
    "13 columns in the header, 12 in row 10473."
   ]
  },
  {
   "cell_type": "code",
   "execution_count": 11,
   "metadata": {},
   "outputs": [],
   "source": [
    "del android[10473] # delete the bad row"
   ]
  },
  {
   "cell_type": "code",
   "execution_count": 12,
   "metadata": {},
   "outputs": [
    {
     "name": "stdout",
     "output_type": "stream",
     "text": [
      "['osmino Wi-Fi: free WiFi', 'TOOLS', '4.2', '134203', '4.1M', '10,000,000+', 'Free', '0', 'Everyone', 'Tools', 'August 7, 2018', '6.06.14', '4.4 and up']\n"
     ]
    }
   ],
   "source": [
    "print(android[10473]) #confirming row is deleted"
   ]
  },
  {
   "cell_type": "markdown",
   "metadata": {},
   "source": [
    "### Removing Duplicates\n",
    "\n",
    "#### Part One: Identification\n",
    "There also seems to be some discussion regarding duplicates in the Google Playstore data, so we will take a look at removing those next if that is the case. See example [here](https://www.kaggle.com/datasets/ramamet4/app-store-apple-data-set-10k-apps/discussion/90409)\n",
    "\n",
    "One notable example from the discussion is Instagram. We can confirm this by finding Instagram in the dataset."
   ]
  },
  {
   "cell_type": "code",
   "execution_count": 13,
   "metadata": {},
   "outputs": [
    {
     "name": "stdout",
     "output_type": "stream",
     "text": [
      "['Instagram', 'SOCIAL', '4.5', '66577313', 'Varies with device', '1,000,000,000+', 'Free', '0', 'Teen', 'Social', 'July 31, 2018', 'Varies with device', 'Varies with device']\n",
      "['Instagram', 'SOCIAL', '4.5', '66577446', 'Varies with device', '1,000,000,000+', 'Free', '0', 'Teen', 'Social', 'July 31, 2018', 'Varies with device', 'Varies with device']\n",
      "['Instagram', 'SOCIAL', '4.5', '66577313', 'Varies with device', '1,000,000,000+', 'Free', '0', 'Teen', 'Social', 'July 31, 2018', 'Varies with device', 'Varies with device']\n",
      "['Instagram', 'SOCIAL', '4.5', '66509917', 'Varies with device', '1,000,000,000+', 'Free', '0', 'Teen', 'Social', 'July 31, 2018', 'Varies with device', 'Varies with device']\n"
     ]
    }
   ],
   "source": [
    "for row in android:\n",
    "    name = row[0]\n",
    "    if name == 'Instagram':\n",
    "        print(row)"
   ]
  },
  {
   "cell_type": "markdown",
   "metadata": {},
   "source": [
    "There are a few entries for Instragram and the differences between them seem to be small. Just the Reviews (row=3) section differs between entries. We'll see how many more duplicates there are before deciding what to do next"
   ]
  },
  {
   "cell_type": "code",
   "execution_count": 14,
   "metadata": {},
   "outputs": [],
   "source": [
    "apps = []\n",
    "dupe_apps = []\n",
    "\n",
    "for row in android[1:]:\n",
    "    name = row[0]\n",
    "    if name not in apps:\n",
    "        apps.append(name)\n",
    "    else:\n",
    "        dupe_apps.append(name)"
   ]
  },
  {
   "cell_type": "code",
   "execution_count": 15,
   "metadata": {},
   "outputs": [
    {
     "name": "stdout",
     "output_type": "stream",
     "text": [
      "The number of duplicate apps = 1181\n",
      "The number of unique apps = 9659\n"
     ]
    }
   ],
   "source": [
    "print('The number of duplicate apps = ' + str(len(dupe_apps)))\n",
    "print('The number of unique apps = ' + str(len(apps)))"
   ]
  },
  {
   "cell_type": "markdown",
   "metadata": {},
   "source": [
    "There are >1000 duplicate entries in the dataset that need to be removed. \n",
    "\n",
    "#### Part Two: Removal\n",
    "\n",
    "We will keep only the entry with the highest reviews. The reason for this is that as we see in the Instagram example, the duplicates represent the same app, with Reviews as the only differentiator. As review counts do not go down with time, the entry with the highest review numbers must be the most recent.\n",
    "\n",
    "To need to identify the duplicate entries to keep, we'll compile a list of these into a dictionary.\n",
    "\n",
    "The below loop will:\n",
    " - Take the app name and number of reviews, and add these to a dict _max_reviews_\n",
    " - Check for each app name whether it is already in the dict.\n",
    "      - If it finds an app that is already in the dict, it will check whether the new entry's review count is higher or lower. If higher, the old entry in the dict will be replaced.\n",
    "      \n",
    "The final dict will include only a single entry for each app name, and the value of only the highest review count for that app name."
   ]
  },
  {
   "cell_type": "code",
   "execution_count": 16,
   "metadata": {},
   "outputs": [],
   "source": [
    "max_reviews = {}\n",
    "\n",
    "for app in android[1:]:\n",
    "    name = app[0]\n",
    "    num_reviews = float(app[3])\n",
    "    \n",
    "    if name in max_reviews and max_reviews[name] < num_reviews:\n",
    "        max_reviews[name] = num_reviews\n",
    "    elif name not in max_reviews:\n",
    "        max_reviews[name] = num_reviews"
   ]
  },
  {
   "cell_type": "code",
   "execution_count": 17,
   "metadata": {},
   "outputs": [
    {
     "name": "stdout",
     "output_type": "stream",
     "text": [
      "9659\n"
     ]
    }
   ],
   "source": [
    "print(len(max_reviews)) #checking if length of this list matches the number of unique apps listed above"
   ]
  },
  {
   "cell_type": "markdown",
   "metadata": {},
   "source": [
    "The below code removes the duplicates from the android dataset. The steps are as follows:\n",
    "- The data is stored as a list, so a new list, android_clean, is created.\n",
    "- We iterate through the android dataset, checking apps by name and the number of reviews.\n",
    "    - If the number of reviews for an app matchs the number of reviews in the dict created above, max_reviews, then it is added to the android_clean list.\n",
    "- A separate list is also created called already_added. When an app is added to the android_clean list, it is also added to the already_added list. Then, if a subsequent version of the same app with the same number of reviews is encountered, the for loop checks it is not yet part of already_added. If the name is already in that lsit, then the entry is not added to android_clean, avoiding further duplicates."
   ]
  },
  {
   "cell_type": "code",
   "execution_count": 18,
   "metadata": {},
   "outputs": [],
   "source": [
    "android_clean = []\n",
    "already_added = []"
   ]
  },
  {
   "cell_type": "code",
   "execution_count": 19,
   "metadata": {},
   "outputs": [],
   "source": [
    "for row in android[1:]:\n",
    "    name = row[0]\n",
    "    num_reviews = float(row[3])\n",
    "    \n",
    "    if num_reviews == max_reviews[name] and name not in already_added:\n",
    "        android_clean.append(row)\n",
    "        already_added.append(name)"
   ]
  },
  {
   "cell_type": "code",
   "execution_count": 20,
   "metadata": {},
   "outputs": [
    {
     "name": "stdout",
     "output_type": "stream",
     "text": [
      "9659\n"
     ]
    }
   ],
   "source": [
    "print(len(android_clean)) #checking that the length of the dataset matches the length of unique apps we found earlier"
   ]
  },
  {
   "cell_type": "markdown",
   "metadata": {},
   "source": [
    "The figure above matches the number of unique apps we found above. \n",
    "\n",
    "We're OK to use this dataset now as no other issues have been reported in the community."
   ]
  },
  {
   "cell_type": "code",
   "execution_count": 21,
   "metadata": {},
   "outputs": [],
   "source": [
    "android = android_clean"
   ]
  },
  {
   "cell_type": "markdown",
   "metadata": {},
   "source": [
    "Using similar to code above, we'll do a quick check now to ensure there are no duplicates in the Apple data."
   ]
  },
  {
   "cell_type": "code",
   "execution_count": 22,
   "metadata": {},
   "outputs": [],
   "source": [
    "ios_apps = []\n",
    "ios_dupe_apps = []\n",
    "\n",
    "for row in apple[1:]:\n",
    "    app_id = row[0] #unique id of the app\n",
    "    if app_id not in apps:\n",
    "        ios_apps.append(app_id)\n",
    "    else:\n",
    "        ios_dupe_apps.append(app_id)"
   ]
  },
  {
   "cell_type": "code",
   "execution_count": 23,
   "metadata": {
    "scrolled": true
   },
   "outputs": [
    {
     "name": "stdout",
     "output_type": "stream",
     "text": [
      "0\n"
     ]
    }
   ],
   "source": [
    "print(len(ios_dupe_apps))"
   ]
  },
  {
   "cell_type": "code",
   "execution_count": 24,
   "metadata": {},
   "outputs": [
    {
     "name": "stdout",
     "output_type": "stream",
     "text": [
      "7197\n"
     ]
    }
   ],
   "source": [
    "print(len(ios_apps))"
   ]
  },
  {
   "cell_type": "code",
   "execution_count": 25,
   "metadata": {},
   "outputs": [
    {
     "name": "stdout",
     "output_type": "stream",
     "text": [
      "7197\n"
     ]
    }
   ],
   "source": [
    "print(len(apple[1:]))"
   ]
  },
  {
   "cell_type": "markdown",
   "metadata": {},
   "source": [
    "Looks like there are no duplicates in the AppleStore dataset."
   ]
  },
  {
   "cell_type": "markdown",
   "metadata": {},
   "source": [
    "## Removing Non-English Apps\n",
    "\n",
    "\n",
    "As part of our project, we want to constrain the dataset to English language apps. This is because we exclusively build English-language apps, and don't want data from other language groups influencing our analysis. \n",
    "\n",
    "Below, we'll first identify the non-English apps by looking for those with non-latin alphabet characters in their titles, using ASCII.  The latin alphabet is constrained to the first 127 characters in ASCII.\n",
    "\n",
    "This may not exclude all non-English apps (e.g. French, German, Indonesian all use the latin alphabet) but it will remove a bulk of non-English. As we are lacking a language column, this method seems a viable a proxy.\n",
    "\n",
    "We'll use a for loop in a new function, _isitenglish_, to iterate over the characters in the app name strings and check if they are part of the latin alphabet."
   ]
  },
  {
   "cell_type": "code",
   "execution_count": 26,
   "metadata": {},
   "outputs": [],
   "source": [
    "def isitenglish(string):\n",
    "    \n",
    "    for character in string:\n",
    "        if ord(character) > 127:\n",
    "            return False\n",
    "    return True"
   ]
  },
  {
   "cell_type": "code",
   "execution_count": 27,
   "metadata": {},
   "outputs": [
    {
     "data": {
      "text/plain": [
       "True"
      ]
     },
     "execution_count": 27,
     "metadata": {},
     "output_type": "execute_result"
    }
   ],
   "source": [
    "isitenglish('Instagram') #testing the function here and below"
   ]
  },
  {
   "cell_type": "code",
   "execution_count": 28,
   "metadata": {},
   "outputs": [
    {
     "data": {
      "text/plain": [
       "False"
      ]
     },
     "execution_count": 28,
     "metadata": {},
     "output_type": "execute_result"
    }
   ],
   "source": [
    "isitenglish('爱奇艺PPS -《欢乐颂2》电视剧热播')"
   ]
  },
  {
   "cell_type": "code",
   "execution_count": 29,
   "metadata": {},
   "outputs": [
    {
     "data": {
      "text/plain": [
       "False"
      ]
     },
     "execution_count": 29,
     "metadata": {},
     "output_type": "execute_result"
    }
   ],
   "source": [
    "isitenglish('Docs To Go™ Free Office Suite')"
   ]
  },
  {
   "cell_type": "code",
   "execution_count": 30,
   "metadata": {},
   "outputs": [
    {
     "data": {
      "text/plain": [
       "False"
      ]
     },
     "execution_count": 30,
     "metadata": {},
     "output_type": "execute_result"
    }
   ],
   "source": [
    "isitenglish('Instachat 😜')"
   ]
  },
  {
   "cell_type": "markdown",
   "metadata": {},
   "source": [
    "This code returns some English language apps that just have non latin alphabet characters, such as emojis, trademark symbols. Plenty of relevant characters come later in the ASCII range than 127, so we'd be excluding these too.\n",
    "\n",
    "Another option? We shall do the same as above - iterate over characters in a string - but only look for those with >3 non latin alphabet characters (i.e. characters outside the range of 0-127 in ASCII).\n",
    "\n",
    "Not a perfect solution but it should remove most non-English ones and it is efficient."
   ]
  },
  {
   "cell_type": "code",
   "execution_count": 31,
   "metadata": {},
   "outputs": [],
   "source": [
    "def isitenglish2(string):\n",
    "    non_eng = []\n",
    "    for character in string:\n",
    "        if ord(character) > 127:\n",
    "            non_eng.append(character)\n",
    "    if len(non_eng) > 3:\n",
    "            return False\n",
    "    return True"
   ]
  },
  {
   "cell_type": "code",
   "execution_count": 32,
   "metadata": {},
   "outputs": [
    {
     "data": {
      "text/plain": [
       "True"
      ]
     },
     "execution_count": 32,
     "metadata": {},
     "output_type": "execute_result"
    }
   ],
   "source": [
    "isitenglish2('Instachat 😜')"
   ]
  },
  {
   "cell_type": "code",
   "execution_count": 33,
   "metadata": {},
   "outputs": [
    {
     "data": {
      "text/plain": [
       "True"
      ]
     },
     "execution_count": 33,
     "metadata": {},
     "output_type": "execute_result"
    }
   ],
   "source": [
    "isitenglish2('Docs To Go™ Free Office Suite')"
   ]
  },
  {
   "cell_type": "code",
   "execution_count": 34,
   "metadata": {},
   "outputs": [
    {
     "data": {
      "text/plain": [
       "False"
      ]
     },
     "execution_count": 34,
     "metadata": {},
     "output_type": "execute_result"
    }
   ],
   "source": [
    "isitenglish2('爱奇艺PPS -《欢乐颂2》电视剧热播')"
   ]
  },
  {
   "cell_type": "markdown",
   "metadata": {},
   "source": [
    "The function _isitenglish2_ works as we expected and keeps English language apps with an emoji, but removes clearly non-English apps.\n",
    "\n",
    "Below, we run it on the Google Playstore data."
   ]
  },
  {
   "cell_type": "code",
   "execution_count": 35,
   "metadata": {},
   "outputs": [],
   "source": [
    "android_eng = []\n",
    "non_eng = []"
   ]
  },
  {
   "cell_type": "code",
   "execution_count": 36,
   "metadata": {},
   "outputs": [],
   "source": [
    "for row in android[1:]:\n",
    "    name = row[0]\n",
    "    result = isitenglish2(name)\n",
    "    if result == True:\n",
    "        android_eng.append(row)\n",
    "    else:\n",
    "        non_eng.append(row)"
   ]
  },
  {
   "cell_type": "code",
   "execution_count": 37,
   "metadata": {},
   "outputs": [
    {
     "name": "stdout",
     "output_type": "stream",
     "text": [
      "[['Flame - درب عقلك يوميا', 'EDUCATION', '4.6', '56065', '37M', '1,000,000+', 'Free', '0', 'Everyone', 'Education', 'July 26, 2018', '3.3', '4.1 and up'], ['သိင်္ Astrology - Min Thein Kha BayDin', 'LIFESTYLE', '4.7', '2225', '15M', '100,000+', 'Free', '0', 'Everyone', 'Lifestyle', 'July 26, 2018', '4.2.1', '4.0.3 and up'], ['РИА Новости', 'NEWS_AND_MAGAZINES', '4.5', '44274', '8.0M', '1,000,000+', 'Free', '0', 'Everyone', 'News & Magazines', 'August 6, 2018', '4.0.6', '4.4 and up'], ['صور حرف H', 'ART_AND_DESIGN', '4.4', '13', '4.5M', '1,000+', 'Free', '0', 'Everyone', 'Art & Design', 'March 27, 2018', '2.0', '4.0.3 and up'], ['L.POINT - 엘포인트 [ 포인트, 멤버십, 적립, 사용, 모바일 카드, 쿠폰, 롯데]', 'LIFESTYLE', '4.0', '45224', '49M', '5,000,000+', 'Free', '0', 'Everyone', 'Lifestyle', 'August 1, 2018', '6.5.1', '4.1 and up'], ['RMEduS - 음성인식을 활용한 R 프로그래밍 실습 시스템', 'FAMILY', 'NaN', '4', '64M', '1+', 'Free', '0', 'Everyone', 'Education', 'July 17, 2018', '1.0.1', '4.4 and up'], ['AJ렌터카 법인 카셰어링', 'MAPS_AND_NAVIGATION', 'NaN', '0', '27M', '10+', 'Free', '0', 'Everyone', 'Maps & Navigation', 'July 30, 2018', '1.0.0.0', '4.3 and up'], ['Al Quran Free - القرآن (Islam)', 'BOOKS_AND_REFERENCE', '4.7', '1777', '23M', '50,000+', 'Free', '0', 'Everyone', 'Books & Reference', 'February 15, 2015', '1.1', '2.2 and up'], ['中国語 AQリスニング', 'FAMILY', 'NaN', '21', '17M', '5,000+', 'Free', '0', 'Everyone', 'Education', 'June 22, 2016', '2.4.0', '4.0 and up'], ['日本AV历史', 'BOOKS_AND_REFERENCE', '4.1', '215', '30M', '10,000+', 'Free', '0', 'Teen', 'Books & Reference', 'March 6, 2018', '1.2', '4.0 and up']]\n"
     ]
    }
   ],
   "source": [
    "print(non_eng[0:10])"
   ]
  },
  {
   "cell_type": "markdown",
   "metadata": {},
   "source": [
    "The above sample does look like a selection of non-English apps - Russian, Chinese, Korean are all present. We don't see any English titles in the sample, so we can call this a success and do the same with the Apple data."
   ]
  },
  {
   "cell_type": "code",
   "execution_count": 38,
   "metadata": {},
   "outputs": [],
   "source": [
    "apple_eng = []\n",
    "apple_non_eng = []\n",
    "\n",
    "for row in apple[1:]:\n",
    "    name = row[1]\n",
    "    result = isitenglish2(name)\n",
    "    if result == True:\n",
    "        apple_eng.append(row)\n",
    "    else:\n",
    "        apple_non_eng.append(row)"
   ]
  },
  {
   "cell_type": "code",
   "execution_count": 39,
   "metadata": {},
   "outputs": [
    {
     "name": "stdout",
     "output_type": "stream",
     "text": [
      "[['303191318', '同花顺-炒股、股票', '122886144', 'USD', '0.0', '1744', '0', '3.5', '0.0', '10.10.46', '4+', 'Finance', '37', '0', '1', '1'], ['438426078', '聚力视频-蓝光电视剧电影在线热播', '99607552', 'USD', '0.0', '1670', '4', '4.5', '4.0', '6.4.16', '12+', 'Entertainment', '38', '0', '1', '1'], ['906936224', '快看漫画', '63058944', 'USD', '0.0', '1647', '225', '5.0', '5.0', '4.1.1', '17+', 'Book', '38', '4', '2', '1'], ['385285922', '乐视视频-白鹿原,欢乐颂,奔跑吧全网热播', '184689664', 'USD', '0.0', '1590', '6', '4.5', '5.0', '7.1', '17+', 'Entertainment', '38', '0', '2', '1'], ['1058287503', '酷我音乐HD-无损在线播放', '40784896', 'USD', '0.0', '1340', '264', '5.0', '5.0', '4.0.6', '4+', 'Entertainment', '24', '5', '1', '1'], ['373454750', '随手记（专业版）-好用的记账理财工具', '83899392', 'USD', '0.99', '1267', '0', '4.5', '0.0', '10.6.3', '4+', 'Finance', '38', '0', '3', '1'], ['485534181', 'Dictionary ( قاموس عربي / انجليزي + ودجيت الترجمة)', '69448704', 'USD', '3.99', '1112', '7', '4.5', '4.0', '6.4', '4+', 'Reference', '37', '5', '2', '1'], ['554499054', '滴滴出行', '108676096', 'USD', '0.0', '1103', '4', '4.0', '1.5', '5.0.20', '4+', 'Travel', '37', '0', '2', '1'], ['461703208', '高德地图（精准专业的手机地图）', '166025216', 'USD', '0.0', '1040', '5', '4.5', '4.0', '8.0.8', '4+', 'Navigation', '38', '0', '1', '1'], ['565847343', '百度HD-极速安全浏览器', '167631872', 'USD', '0.0', '1033', '8', '4.0', '3.5', '5.4.0', '17+', 'Utilities', '24', '5', '2', '1']]\n"
     ]
    }
   ],
   "source": [
    "print(apple_non_eng[20:30])"
   ]
  },
  {
   "cell_type": "code",
   "execution_count": 40,
   "metadata": {},
   "outputs": [
    {
     "name": "stdout",
     "output_type": "stream",
     "text": [
      "Total Android apps in English = 9613 and Total Apple apps in English = 6183\n",
      "We removed 1059 non-English apps in total across both datasets\n"
     ]
    }
   ],
   "source": [
    "print('Total Android apps in English = ' + str(len(android_eng)) + ' and Total Apple apps in English = ' + str(len(apple_eng)))\n",
    "print('We removed ' + str(len(apple_non_eng)+len(non_eng)) + ' non-English apps in total across both datasets')"
   ]
  },
  {
   "cell_type": "code",
   "execution_count": 41,
   "metadata": {},
   "outputs": [],
   "source": [
    "android = android_eng\n",
    "apple = apple_eng"
   ]
  },
  {
   "cell_type": "markdown",
   "metadata": {},
   "source": [
    "## Removing Paid Apps"
   ]
  },
  {
   "cell_type": "markdown",
   "metadata": {},
   "source": [
    "As we'll only be making free apps, it makes sense to constraint these data to exlude paid apps. \n",
    "\n",
    "To start with, we'll check how pricing is named in the Google Playstore data"
   ]
  },
  {
   "cell_type": "code",
   "execution_count": 42,
   "metadata": {},
   "outputs": [
    {
     "name": "stdout",
     "output_type": "stream",
     "text": [
      "['App', 'Category', 'Rating', 'Reviews', 'Size', 'Installs', 'Type', 'Price', 'Content Rating', 'Genres', 'Last Updated', 'Current Ver', 'Android Ver']\n",
      "['Animated Photo Editor', 'ART_AND_DESIGN', '4.1', '203', '6.1M', '100,000+', 'Free', '0', 'Everyone', 'Art & Design', 'March 21, 2018', '1.03', '4.0.3 and up']\n"
     ]
    }
   ],
   "source": [
    "print(android_header)\n",
    "print(android[24]) #randomly selected row to check price string structure"
   ]
  },
  {
   "cell_type": "code",
   "execution_count": 43,
   "metadata": {},
   "outputs": [],
   "source": [
    "android_paid = []\n",
    "android_free = []\n",
    "for row in android[1:]:\n",
    "    cost = row[6]\n",
    "    if cost != 'Free':\n",
    "        android_paid.append(row)\n",
    "    elif cost == 'Free':\n",
    "        android_free.append(row)        "
   ]
  },
  {
   "cell_type": "code",
   "execution_count": 44,
   "metadata": {},
   "outputs": [
    {
     "name": "stdout",
     "output_type": "stream",
     "text": [
      "The lenth of android_free = 8861 and the length of android_paid = 751\n"
     ]
    }
   ],
   "source": [
    "print('The lenth of android_free = ' + str(len(android_free)) + \n",
    "      ' and the length of android_paid = ' + str(len(android_paid)))"
   ]
  },
  {
   "cell_type": "code",
   "execution_count": 45,
   "metadata": {},
   "outputs": [
    {
     "data": {
      "text/plain": [
       "9612"
      ]
     },
     "execution_count": 45,
     "metadata": {},
     "output_type": "execute_result"
    }
   ],
   "source": [
    "len(android)-1 #minus the header"
   ]
  },
  {
   "cell_type": "code",
   "execution_count": 46,
   "metadata": {},
   "outputs": [
    {
     "data": {
      "text/plain": [
       "9612"
      ]
     },
     "execution_count": 46,
     "metadata": {},
     "output_type": "execute_result"
    }
   ],
   "source": [
    "len(android_free)+len(android_paid) # Sum of paid + free should = total of the dataset"
   ]
  },
  {
   "cell_type": "markdown",
   "metadata": {},
   "source": [
    "The loop worked to successfully extract only the free Google Playstore apps. We'll use the same code for the Apple Store below."
   ]
  },
  {
   "cell_type": "code",
   "execution_count": 47,
   "metadata": {},
   "outputs": [
    {
     "name": "stdout",
     "output_type": "stream",
     "text": [
      "['id', 'track_name', 'size_bytes', 'currency', 'price', 'rating_count_tot', 'rating_count_ver', 'user_rating', 'user_rating_ver', 'ver', 'cont_rating', 'prime_genre', 'sup_devices.num', 'ipadSc_urls.num', 'lang.num', 'vpp_lic']\n",
      "['363590051', 'Netflix', '125016064', 'USD', '0.0', '308844', '139', '3.5', '3.0', '9.21.3', '4+', 'Entertainment', '37', '5', '20', '1']\n"
     ]
    }
   ],
   "source": [
    "print(apple_header)\n",
    "print(apple[55]) #randomly selected row to check price string structure"
   ]
  },
  {
   "cell_type": "code",
   "execution_count": 48,
   "metadata": {},
   "outputs": [],
   "source": [
    "apple_paid = []\n",
    "apple_free = []\n",
    "for row in apple[1:]:\n",
    "    cost = row[4]\n",
    "    if cost != '0.0':\n",
    "        apple_paid.append(row)\n",
    "    elif cost == '0.0':\n",
    "        apple_free.append(row)        "
   ]
  },
  {
   "cell_type": "code",
   "execution_count": 49,
   "metadata": {},
   "outputs": [
    {
     "name": "stdout",
     "output_type": "stream",
     "text": [
      "The lenth of apple_free = 3221 and the length of apple_paid = 2961\n"
     ]
    }
   ],
   "source": [
    "print('The lenth of apple_free = ' + str(len(apple_free)) + \n",
    "      ' and the length of apple_paid = ' + str(len(apple_paid)))"
   ]
  },
  {
   "cell_type": "code",
   "execution_count": 50,
   "metadata": {},
   "outputs": [
    {
     "data": {
      "text/plain": [
       "6182"
      ]
     },
     "execution_count": 50,
     "metadata": {},
     "output_type": "execute_result"
    }
   ],
   "source": [
    "len(apple)-1 #again removing 1 for the header"
   ]
  },
  {
   "cell_type": "code",
   "execution_count": 51,
   "metadata": {},
   "outputs": [
    {
     "data": {
      "text/plain": [
       "6182"
      ]
     },
     "execution_count": 51,
     "metadata": {},
     "output_type": "execute_result"
    }
   ],
   "source": [
    "len(apple_free)+len(apple_paid) # Sum of paid + free should = total of the dataset as above"
   ]
  },
  {
   "cell_type": "markdown",
   "metadata": {},
   "source": [
    "Now happy with these data, we'll move on to analysis."
   ]
  },
  {
   "cell_type": "code",
   "execution_count": 52,
   "metadata": {},
   "outputs": [],
   "source": [
    "android = android_free\n",
    "apple = apple_free"
   ]
  },
  {
   "cell_type": "markdown",
   "metadata": {},
   "source": [
    "## Analysis\n",
    "Our aim is to build an app that will be popular for both iOS and Android users, allowing us to maximise our in-app advertising revenue.\n",
    "\n",
    "Toward this end, we need to understand what sort of apps are profitable across both Android and Apple.\n",
    "\n",
    "A good place to start would be with the Categories/Genre columns in both datasets. This may help us determine an app profile that does well in similar categories across both app Stores."
   ]
  },
  {
   "cell_type": "markdown",
   "metadata": {},
   "source": [
    "### Top App Categories in Both Stores\n",
    "\n",
    "#### Part One"
   ]
  },
  {
   "cell_type": "code",
   "execution_count": 53,
   "metadata": {},
   "outputs": [
    {
     "name": "stdout",
     "output_type": "stream",
     "text": [
      "['App', 'Category', 'Rating', 'Reviews', 'Size', 'Installs', 'Type', 'Price', 'Content Rating', 'Genres', 'Last Updated', 'Current Ver', 'Android Ver']\n",
      "['id', 'track_name', 'size_bytes', 'currency', 'price', 'rating_count_tot', 'rating_count_ver', 'user_rating', 'user_rating_ver', 'ver', 'cont_rating', 'prime_genre', 'sup_devices.num', 'ipadSc_urls.num', 'lang.num', 'vpp_lic']\n"
     ]
    }
   ],
   "source": [
    "print(android_header)\n",
    "print(apple_header)"
   ]
  },
  {
   "cell_type": "markdown",
   "metadata": {},
   "source": [
    "The headers for both datasets are above, so we can familiarise ourselves with the relevant columns. For Android, these are columns 1 (Category) and 9 (Genres), and for Apple it is column 11 (prime_genre)"
   ]
  },
  {
   "cell_type": "markdown",
   "metadata": {},
   "source": [
    "To determine the popularity of each category/genre, we'll use frequency tables.\n",
    "\n",
    "We'll create a pair of functions that:\n",
    "- Displays the frequency table of a column as percentages\n",
    "- Displays the percentages created by the previous function in a sorted, descending order."
   ]
  },
  {
   "cell_type": "code",
   "execution_count": 54,
   "metadata": {},
   "outputs": [],
   "source": [
    "def freq_table(dataset, idx):\n",
    "    cat = {}\n",
    "    counts = 0\n",
    "    for row in dataset[1:]:\n",
    "        counts += 1\n",
    "        category = row[idx]\n",
    "        if category in cat:\n",
    "            cat[category] += 1\n",
    "        else:\n",
    "            cat[category] = 1    \n",
    "            \n",
    "    pct = {}\n",
    "    for key in cat:\n",
    "        percentage = (cat[key] / counts) * 100\n",
    "        pct[key] = percentage \n",
    "    \n",
    "    return pct"
   ]
  },
  {
   "cell_type": "code",
   "execution_count": 55,
   "metadata": {},
   "outputs": [],
   "source": [
    "def display_table(dataset, index):\n",
    "    table = freq_table(dataset, index)\n",
    "    table_display = []\n",
    "    for key in table:\n",
    "        key_val_as_tuple = (table[key], key)\n",
    "        table_display.append(key_val_as_tuple)\n",
    "\n",
    "    table_sorted = sorted(table_display, reverse = True)\n",
    "    for entry in table_sorted:\n",
    "        print(entry[1], ':', entry[0])"
   ]
  },
  {
   "cell_type": "code",
   "execution_count": 56,
   "metadata": {},
   "outputs": [],
   "source": [
    "android_cats = freq_table(android, 1) #testing the first function"
   ]
  },
  {
   "cell_type": "code",
   "execution_count": 57,
   "metadata": {},
   "outputs": [
    {
     "name": "stdout",
     "output_type": "stream",
     "text": [
      "{'ART_AND_DESIGN': 0.6094808126410836, 'AUTO_AND_VEHICLES': 0.9255079006772009, 'BEAUTY': 0.5981941309255079, 'BOOKS_AND_REFERENCE': 2.144469525959368, 'BUSINESS': 4.5936794582392775, 'COMICS': 0.6207674943566591, 'COMMUNICATION': 3.239277652370203, 'DATING': 1.8623024830699775, 'EDUCATION': 1.162528216704289, 'ENTERTAINMENT': 0.9593679458239277, 'EVENTS': 0.7110609480812641, 'FINANCE': 3.7020316027088036, 'FOOD_AND_DRINK': 1.2415349887133182, 'HEALTH_AND_FITNESS': 3.0812641083521446, 'HOUSE_AND_HOME': 0.8239277652370203, 'LIBRARIES_AND_DEMO': 0.9367945823927766, 'LIFESTYLE': 3.9051918735891653, 'GAME': 9.729119638826186, 'FAMILY': 18.905191873589164, 'MEDICAL': 3.5327313769751694, 'SOCIAL': 2.6636568848758464, 'SHOPPING': 2.2460496613995486, 'PHOTOGRAPHY': 2.945823927765237, 'SPORTS': 3.397291196388262, 'TRAVEL_AND_LOCAL': 2.336343115124153, 'TOOLS': 8.465011286681715, 'PERSONALIZATION': 3.3182844243792324, 'PRODUCTIVITY': 3.8939051918735887, 'PARENTING': 0.6546275395033859, 'WEATHER': 0.8013544018058691, 'VIDEO_PLAYERS': 1.7945823927765236, 'NEWS_AND_MAGAZINES': 2.799097065462754, 'MAPS_AND_NAVIGATION': 1.399548532731377}\n"
     ]
    }
   ],
   "source": [
    "print(android_cats)"
   ]
  },
  {
   "cell_type": "markdown",
   "metadata": {},
   "source": [
    "Confirmed the freq_table function works. Now to use display_table"
   ]
  },
  {
   "cell_type": "code",
   "execution_count": 58,
   "metadata": {},
   "outputs": [
    {
     "name": "stdout",
     "output_type": "stream",
     "text": [
      "FAMILY : 18.905191873589164\n",
      "GAME : 9.729119638826186\n",
      "TOOLS : 8.465011286681715\n",
      "BUSINESS : 4.5936794582392775\n",
      "LIFESTYLE : 3.9051918735891653\n",
      "PRODUCTIVITY : 3.8939051918735887\n",
      "FINANCE : 3.7020316027088036\n",
      "MEDICAL : 3.5327313769751694\n",
      "SPORTS : 3.397291196388262\n",
      "PERSONALIZATION : 3.3182844243792324\n",
      "COMMUNICATION : 3.239277652370203\n",
      "HEALTH_AND_FITNESS : 3.0812641083521446\n",
      "PHOTOGRAPHY : 2.945823927765237\n",
      "NEWS_AND_MAGAZINES : 2.799097065462754\n",
      "SOCIAL : 2.6636568848758464\n",
      "TRAVEL_AND_LOCAL : 2.336343115124153\n",
      "SHOPPING : 2.2460496613995486\n",
      "BOOKS_AND_REFERENCE : 2.144469525959368\n",
      "DATING : 1.8623024830699775\n",
      "VIDEO_PLAYERS : 1.7945823927765236\n",
      "MAPS_AND_NAVIGATION : 1.399548532731377\n",
      "FOOD_AND_DRINK : 1.2415349887133182\n",
      "EDUCATION : 1.162528216704289\n",
      "ENTERTAINMENT : 0.9593679458239277\n",
      "LIBRARIES_AND_DEMO : 0.9367945823927766\n",
      "AUTO_AND_VEHICLES : 0.9255079006772009\n",
      "HOUSE_AND_HOME : 0.8239277652370203\n",
      "WEATHER : 0.8013544018058691\n",
      "EVENTS : 0.7110609480812641\n",
      "PARENTING : 0.6546275395033859\n",
      "COMICS : 0.6207674943566591\n",
      "ART_AND_DESIGN : 0.6094808126410836\n",
      "BEAUTY : 0.5981941309255079\n"
     ]
    }
   ],
   "source": [
    "android_categories = display_table(android, 1)"
   ]
  },
  {
   "cell_type": "code",
   "execution_count": 59,
   "metadata": {},
   "outputs": [
    {
     "name": "stdout",
     "output_type": "stream",
     "text": [
      "Tools : 8.45372460496614\n",
      "Entertainment : 6.072234762979685\n",
      "Education : 5.349887133182844\n",
      "Business : 4.5936794582392775\n",
      "Productivity : 3.8939051918735887\n",
      "Lifestyle : 3.8939051918735887\n",
      "Finance : 3.7020316027088036\n",
      "Medical : 3.5327313769751694\n",
      "Sports : 3.4650112866817158\n",
      "Personalization : 3.3182844243792324\n",
      "Communication : 3.239277652370203\n",
      "Action : 3.1038374717832955\n",
      "Health & Fitness : 3.0812641083521446\n",
      "Photography : 2.945823927765237\n",
      "News & Magazines : 2.799097065462754\n",
      "Social : 2.6636568848758464\n",
      "Travel & Local : 2.325056433408578\n",
      "Shopping : 2.2460496613995486\n",
      "Books & Reference : 2.144469525959368\n",
      "Simulation : 2.0428893905191874\n",
      "Dating : 1.8623024830699775\n",
      "Arcade : 1.8510158013544018\n",
      "Video Players & Editors : 1.7720090293453723\n",
      "Casual : 1.7607223476297968\n",
      "Maps & Navigation : 1.399548532731377\n",
      "Food & Drink : 1.2415349887133182\n",
      "Puzzle : 1.1286681715575622\n",
      "Racing : 0.9932279909706546\n",
      "Role Playing : 0.9367945823927766\n",
      "Libraries & Demo : 0.9367945823927766\n",
      "Auto & Vehicles : 0.9255079006772009\n",
      "Strategy : 0.9029345372460496\n",
      "House & Home : 0.8239277652370203\n",
      "Weather : 0.8013544018058691\n",
      "Events : 0.7110609480812641\n",
      "Adventure : 0.6772009029345373\n",
      "Comics : 0.6094808126410836\n",
      "Beauty : 0.5981941309255079\n",
      "Art & Design : 0.5643340857787811\n",
      "Parenting : 0.4966139954853273\n",
      "Card : 0.4514672686230248\n",
      "Casino : 0.4288939051918736\n",
      "Trivia : 0.4176072234762979\n",
      "Educational;Education : 0.39503386004514673\n",
      "Board : 0.3837471783295711\n",
      "Educational : 0.3724604966139955\n",
      "Education;Education : 0.33860045146726864\n",
      "Word : 0.25959367945823925\n",
      "Casual;Pretend Play : 0.23702031602708803\n",
      "Music : 0.20316027088036118\n",
      "Racing;Action & Adventure : 0.16930022573363432\n",
      "Puzzle;Brain Games : 0.16930022573363432\n",
      "Entertainment;Music & Video : 0.16930022573363432\n",
      "Casual;Brain Games : 0.13544018058690743\n",
      "Casual;Action & Adventure : 0.13544018058690743\n",
      "Arcade;Action & Adventure : 0.12415349887133183\n",
      "Action;Action & Adventure : 0.10158013544018059\n",
      "Educational;Pretend Play : 0.09029345372460496\n",
      "Simulation;Action & Adventure : 0.07900677200902935\n",
      "Parenting;Education : 0.07900677200902935\n",
      "Entertainment;Brain Games : 0.07900677200902935\n",
      "Board;Brain Games : 0.07900677200902935\n",
      "Parenting;Music & Video : 0.06772009029345372\n",
      "Educational;Brain Games : 0.06772009029345372\n",
      "Casual;Creativity : 0.06772009029345372\n",
      "Art & Design;Creativity : 0.06772009029345372\n",
      "Education;Pretend Play : 0.0564334085778781\n",
      "Role Playing;Pretend Play : 0.04514672686230248\n",
      "Education;Creativity : 0.04514672686230248\n",
      "Role Playing;Action & Adventure : 0.03386004514672686\n",
      "Puzzle;Action & Adventure : 0.03386004514672686\n",
      "Entertainment;Creativity : 0.03386004514672686\n",
      "Entertainment;Action & Adventure : 0.03386004514672686\n",
      "Educational;Creativity : 0.03386004514672686\n",
      "Educational;Action & Adventure : 0.03386004514672686\n",
      "Education;Music & Video : 0.03386004514672686\n",
      "Education;Brain Games : 0.03386004514672686\n",
      "Education;Action & Adventure : 0.03386004514672686\n",
      "Adventure;Action & Adventure : 0.03386004514672686\n",
      "Video Players & Editors;Music & Video : 0.02257336343115124\n",
      "Sports;Action & Adventure : 0.02257336343115124\n",
      "Simulation;Pretend Play : 0.02257336343115124\n",
      "Puzzle;Creativity : 0.02257336343115124\n",
      "Music;Music & Video : 0.02257336343115124\n",
      "Entertainment;Pretend Play : 0.02257336343115124\n",
      "Casual;Education : 0.02257336343115124\n",
      "Board;Action & Adventure : 0.02257336343115124\n",
      "Video Players & Editors;Creativity : 0.01128668171557562\n",
      "Trivia;Education : 0.01128668171557562\n",
      "Travel & Local;Action & Adventure : 0.01128668171557562\n",
      "Tools;Education : 0.01128668171557562\n",
      "Strategy;Education : 0.01128668171557562\n",
      "Strategy;Creativity : 0.01128668171557562\n",
      "Strategy;Action & Adventure : 0.01128668171557562\n",
      "Simulation;Education : 0.01128668171557562\n",
      "Role Playing;Brain Games : 0.01128668171557562\n",
      "Racing;Pretend Play : 0.01128668171557562\n",
      "Puzzle;Education : 0.01128668171557562\n",
      "Parenting;Brain Games : 0.01128668171557562\n",
      "Music & Audio;Music & Video : 0.01128668171557562\n",
      "Lifestyle;Pretend Play : 0.01128668171557562\n",
      "Lifestyle;Education : 0.01128668171557562\n",
      "Health & Fitness;Education : 0.01128668171557562\n",
      "Health & Fitness;Action & Adventure : 0.01128668171557562\n",
      "Entertainment;Education : 0.01128668171557562\n",
      "Communication;Creativity : 0.01128668171557562\n",
      "Comics;Creativity : 0.01128668171557562\n",
      "Casual;Music & Video : 0.01128668171557562\n",
      "Card;Action & Adventure : 0.01128668171557562\n",
      "Books & Reference;Education : 0.01128668171557562\n",
      "Art & Design;Pretend Play : 0.01128668171557562\n",
      "Art & Design;Action & Adventure : 0.01128668171557562\n",
      "Arcade;Pretend Play : 0.01128668171557562\n",
      "Adventure;Education : 0.01128668171557562\n"
     ]
    }
   ],
   "source": [
    "android_genres = display_table(android, 9)"
   ]
  },
  {
   "cell_type": "code",
   "execution_count": 60,
   "metadata": {},
   "outputs": [
    {
     "name": "stdout",
     "output_type": "stream",
     "text": [
      "Games : 58.19875776397515\n",
      "Entertainment : 7.888198757763975\n",
      "Photo & Video : 4.937888198757764\n",
      "Education : 3.6645962732919255\n",
      "Social Networking : 3.260869565217391\n",
      "Shopping : 2.608695652173913\n",
      "Utilities : 2.515527950310559\n",
      "Sports : 2.142857142857143\n",
      "Music : 2.049689440993789\n",
      "Health & Fitness : 2.018633540372671\n",
      "Productivity : 1.7391304347826086\n",
      "Lifestyle : 1.5838509316770186\n",
      "News : 1.3354037267080745\n",
      "Travel : 1.2422360248447204\n",
      "Finance : 1.1180124223602486\n",
      "Weather : 0.8695652173913043\n",
      "Food & Drink : 0.8074534161490683\n",
      "Reference : 0.5590062111801243\n",
      "Business : 0.5279503105590062\n",
      "Book : 0.43478260869565216\n",
      "Navigation : 0.18633540372670807\n",
      "Medical : 0.18633540372670807\n",
      "Catalogs : 0.12422360248447205\n"
     ]
    }
   ],
   "source": [
    "apple_genres = display_table(apple, 11)"
   ]
  },
  {
   "cell_type": "markdown",
   "metadata": {},
   "source": [
    "Let's look at this data more closely.\n",
    "\n",
    "For Apple:\n",
    "- The most common genre is Gaming, followed by Entertainment\n",
    "\n",
    "- Generally the apps categories cover mostly practical topics - News, Finance, Travel, Lifestyle, Education. \n",
    "    - However, 4 of the top 5 are fun/entertainment based, except for Education.\n",
    "\n",
    "- While the majority of the seem to be Games or other fun/leisure types, this doesn't mean they are the most popular or used. They may simply be the easiest to develop, and thus end up with a saturation in the store. Of course, apps of this kind could indeed be very popular. More information will be needed."
   ]
  },
  {
   "cell_type": "markdown",
   "metadata": {},
   "source": [
    "For Android:\n",
    "- At first glance it's not clear what the difference is between the 'genre' and the 'category' columns. \n",
    "    - It's possible 'genre' is a bit more granular than categories, based on the size of the list.\n",
    "\n",
    "- Across both genre and category, top genres include Tools, Family, Education, Entertainment and Games.\n",
    "\n",
    "- In general in the top 5 across both, practical type categories make up 4 of the entries. The opposite of the Apple Store set.\n",
    "\n",
    "- Just as above, more info needed before deciding which category is the best to develop in."
   ]
  },
  {
   "cell_type": "markdown",
   "metadata": {},
   "source": [
    "### Most Installs by App Category in Apple Store"
   ]
  },
  {
   "cell_type": "markdown",
   "metadata": {},
   "source": [
    "The above frequency tables tell us which categories have the most apps. But there may be many apps in each category, with only a few installs each - so it's not particularly telling of app popularity. \n",
    "\n",
    "We want our app to be popular, so we should consider how many apps in each categories have a significant number of users. This will give us an indication of the popularity of apps in a particular category. We can do this by looking at the following data:\n",
    "\n",
    "- The Google Playstore data has a column 'installs' which we can use to calculate the number of users per app category.\n",
    "- For Apple it's more tricky as there is no similar column. Intead, we'll can use the user reviews as a proxy for the number of users. The column is rating_count_tot\n"
   ]
  },
  {
   "cell_type": "markdown",
   "metadata": {},
   "source": [
    "#### Part One: Apple Store Category Rating Counts\n",
    "\n",
    "We're going to use the _freq_table_ function from above to again build a freqency table of genres in the Apple App Store.\n",
    "\n",
    "We will then use a for loop to:\n",
    "- Iterate over our Apple data\n",
    "- For each row, take the app genre and check for that same genre in the frequency table we just made.\n",
    "    - The loop will add the rating_count_tot value (as _rct_) to a variable named _total_\n",
    "    - The length of the list of items added to total will also increase with each new item, in variable _len_genre_\n",
    "- Find the average number of ratings for each genre using the total and the genre length variables."
   ]
  },
  {
   "cell_type": "code",
   "execution_count": 61,
   "metadata": {},
   "outputs": [],
   "source": [
    "apple_genre_freq = freq_table(apple_free, 11)"
   ]
  },
  {
   "cell_type": "code",
   "execution_count": 143,
   "metadata": {
    "scrolled": true
   },
   "outputs": [
    {
     "name": "stdout",
     "output_type": "stream",
     "text": [
      "Games : 22788.7\n",
      "Music : 57326.5\n",
      "Social Networking : 43899.5\n",
      "Reference : 74942.1\n",
      "Health & Fitness : 23298.0\n",
      "Weather : 52279.9\n",
      "Utilities : 18684.5\n",
      "Travel : 28243.8\n",
      "Shopping : 26919.7\n",
      "News : 21248.0\n",
      "Navigation : 86090.3\n",
      "Lifestyle : 16485.8\n",
      "Photo & Video : 28441.5\n",
      "Entertainment : 14029.8\n",
      "Food & Drink : 33333.9\n",
      "Sports : 23008.9\n",
      "Book : 39758.5\n",
      "Finance : 31467.9\n",
      "Education : 7004.0\n",
      "Productivity : 21028.4\n",
      "Business : 7491.1\n",
      "Catalogs : 4004.0\n",
      "Medical : 612.0\n"
     ]
    }
   ],
   "source": [
    "for genre in apple_genre_freq:\n",
    "    total = 0\n",
    "    len_genre = 0\n",
    "    for row in apple:\n",
    "        genre_app = row[11]\n",
    "        if genre_app == genre:\n",
    "            rct = float(row[5])\n",
    "            total += rct\n",
    "            len_genre += 1\n",
    "    avg_num_ratings = round(total/len_genre, 1)\n",
    "    print(genre, ':', avg_num_ratings)"
   ]
  },
  {
   "attachments": {},
   "cell_type": "markdown",
   "metadata": {},
   "source": [
    "Above is the average number of ratings per app, per category, in the Apple Store. We're using this data as a proxy for installs/popularity of the apps in each category.\n",
    "\n",
    "#### Part Two: Analysis\n",
    "\n",
    "The data shows a few categories with particularly high average rating numbers per app. The top 10 are:\n",
    "\n",
    "1. Navigation (86090)\n",
    "2. Reference\n",
    "3. Music\n",
    "4. Weather\n",
    "5. Social Networking\n",
    "6. Book\n",
    "7. Food & Drink\n",
    "8. Finance\n",
    "9. Photo & Video\n",
    "10. Travel (28243)\n",
    "\n",
    "We'll take a look at each in turn and get a feel for the app landscape."
   ]
  },
  {
   "cell_type": "code",
   "execution_count": 63,
   "metadata": {},
   "outputs": [
    {
     "name": "stdout",
     "output_type": "stream",
     "text": [
      "Waze - GPS Navigation, Maps & Real-time Traffic : 345046\n",
      "Google Maps - Navigation & Transit : 154911\n",
      "Geocaching® : 12811\n",
      "CoPilot GPS – Car Navigation & Offline Maps : 3582\n",
      "ImmobilienScout24: Real Estate Search in Germany : 187\n",
      "Railway Route Search : 5\n"
     ]
    }
   ],
   "source": [
    "#First looking at Navigation\n",
    "for row in apple:\n",
    "    if row[11] == 'Navigation':\n",
    "        print(row[1], ':', row[5])"
   ]
  },
  {
   "cell_type": "markdown",
   "metadata": {},
   "source": [
    "By far the category with the most installs is Navigation. \n",
    "\n",
    "The average number of ratings per app for this category 86090, however this seems to be a figure that is dragged down by a few apps with a small number of installs, vs some very popular apps. E.g. the list includes major stakeholders like Google Maps and Waze for driving.\n",
    "\n",
    "We can confirm this by checking the median of the data, below."
   ]
  },
  {
   "cell_type": "code",
   "execution_count": 64,
   "metadata": {},
   "outputs": [],
   "source": [
    "import statistics"
   ]
  },
  {
   "cell_type": "code",
   "execution_count": 65,
   "metadata": {},
   "outputs": [],
   "source": [
    "median_list = []\n",
    "for row in apple:\n",
    "    if row[11] == 'Navigation':\n",
    "        median_list.append(int(row[5]))"
   ]
  },
  {
   "cell_type": "code",
   "execution_count": 66,
   "metadata": {},
   "outputs": [
    {
     "name": "stdout",
     "output_type": "stream",
     "text": [
      "The median of the Navigation rating counts is 8196.5\n"
     ]
    }
   ],
   "source": [
    "print('The median of the Navigation rating counts is ' + str(statistics.median(median_list)))"
   ]
  },
  {
   "cell_type": "markdown",
   "metadata": {},
   "source": [
    "So it looks like it may not be worth our developer's time to build an app in this category, dominated as it is with just a few, extremely popular apps. Let's look now at Reference, the category with the 2nd highest average number of ratings per app, with an average rating number of 74942."
   ]
  },
  {
   "cell_type": "code",
   "execution_count": 67,
   "metadata": {},
   "outputs": [
    {
     "name": "stdout",
     "output_type": "stream",
     "text": [
      "Bible : 985920\n",
      "Dictionary.com Dictionary & Thesaurus : 200047\n",
      "Dictionary.com Dictionary & Thesaurus for iPad : 54175\n",
      "Google Translate : 26786\n",
      "Muslim Pro: Ramadan 2017 Prayer Times, Azan, Quran : 18418\n",
      "New Furniture Mods - Pocket Wiki & Game Tools for Minecraft PC Edition : 17588\n",
      "Merriam-Webster Dictionary : 16849\n",
      "Night Sky : 12122\n",
      "City Maps for Minecraft PE - The Best Maps for Minecraft Pocket Edition (MCPE) : 8535\n",
      "LUCKY BLOCK MOD ™ for Minecraft PC Edition - The Best Pocket Wiki & Mods Installer Tools : 4693\n",
      "GUNS MODS for Minecraft PC Edition - Mods Tools : 1497\n",
      "Guides for Pokémon GO - Pokemon GO News and Cheats : 826\n",
      "WWDC : 762\n",
      "Horror Maps for Minecraft PE - Download The Scariest Maps for Minecraft Pocket Edition (MCPE) Free : 718\n",
      "VPN Express : 14\n",
      "Real Bike Traffic Rider Virtual Reality Glasses : 8\n",
      "教えて!goo : 0\n",
      "Jishokun-Japanese English Dictionary & Translator : 0\n"
     ]
    }
   ],
   "source": [
    "for row in apple:\n",
    "    if row[11] == 'Reference':\n",
    "        print(row[1],':', row[5])"
   ]
  },
  {
   "cell_type": "markdown",
   "metadata": {},
   "source": [
    "The two most popular apps are the Bible and forms of Dictionaries with very high values, and the average again being pulled down by a host of smaller apps.\n",
    "\n",
    "Unlike the Navigation category, Reference has a slightly wider pool of moderately successfull apps to compete against these bigger players. For example, Night Sky for identifying constellations with 12122 ratings, and reference apps for specific games like Pokemon GO and Minecraft."
   ]
  },
  {
   "cell_type": "code",
   "execution_count": 68,
   "metadata": {},
   "outputs": [
    {
     "name": "stdout",
     "output_type": "stream",
     "text": [
      "Pandora - Music & Radio : 1126879\n",
      "Spotify Music : 878563\n",
      "Shazam - Discover music, artists, videos & lyrics : 402925\n",
      "iHeartRadio – Free Music & Radio Stations : 293228\n",
      "SoundCloud - Music & Audio : 135744\n",
      "Magic Piano by Smule : 131695\n",
      "Smule Sing! : 119316\n",
      "TuneIn Radio - MLB NBA Audiobooks Podcasts Music : 110420\n",
      "Amazon Music : 106235\n",
      "SoundHound Song Search & Music Player : 82602\n",
      "Sonos Controller : 48905\n",
      "Bandsintown Concerts : 30845\n",
      "Karaoke - Sing Karaoke, Unlimited Songs! : 28606\n",
      "My Mixtapez Music : 26286\n",
      "Sing Karaoke Songs Unlimited with StarMaker : 26227\n",
      "Ringtones for iPhone & Ringtone Maker : 25403\n",
      "Musi - Unlimited Music For YouTube : 25193\n",
      "AutoRap by Smule : 18202\n",
      "Spinrilla - Mixtapes For Free : 15053\n",
      "Napster - Top Music & Radio : 14268\n",
      "edjing Mix:DJ turntable to remix and scratch music : 13580\n",
      "Free Music - MP3 Streamer & Playlist Manager Pro : 13443\n",
      "Free Piano app by Yokee : 13016\n",
      "Google Play Music : 10118\n",
      "Certified Mixtapes - Hip Hop Albums & Mixtapes : 9975\n",
      "TIDAL : 7398\n",
      "YouTube Music : 7109\n",
      "Nicki Minaj: The Empire : 5196\n",
      "Sounds app - Music And Friends : 5126\n",
      "SongFlip - Free Music Streamer : 5004\n",
      "Simple Radio - Live AM & FM Radio Stations : 4787\n",
      "Deezer - Listen to your Favorite Music & Playlists : 4677\n",
      "Ringtones for iPhone with Ringtone Maker : 4013\n",
      "Bose SoundTouch : 3687\n",
      "Amazon Alexa : 3018\n",
      "DatPiff : 2815\n",
      "Trebel Music - Unlimited Music Downloader : 2570\n",
      "Free Music Play - Mp3 Streamer & Player : 2496\n",
      "Acapella from PicPlayPost : 2487\n",
      "Coach Guitar - Lessons & Easy Tabs For Beginners : 2416\n",
      "Musicloud - MP3 and FLAC Music Player for Cloud Platforms. : 2211\n",
      "Piano - Play Keyboard Music Games with Magic Tiles : 1636\n",
      "Boom: Best Equalizer & Magical Surround Sound : 1375\n",
      "Music Freedom - Unlimited Free MP3 Music Streaming : 1246\n",
      "AmpMe - A Portable Social Party Music Speaker : 1047\n",
      "Medly - Music Maker : 933\n",
      "Bose Connect : 915\n",
      "Music Memos : 909\n",
      "UE BOOM : 612\n",
      "LiveMixtapes : 555\n",
      "NOISE : 355\n",
      "MP3 Music Player & Streamer for Clouds : 329\n",
      "Musical Video Maker - Create Music clips lip sync : 320\n",
      "Cloud Music Player - Downloader & Playlist Manager : 319\n",
      "Remixlive - Remix loops with pads : 288\n",
      "QQ音乐HD : 224\n",
      "Blocs Wave - Make & Record Music : 158\n",
      "PlayGround • Music At Your Fingertips : 150\n",
      "Music and Chill : 135\n",
      "The Singing Machine Mobile Karaoke App : 130\n",
      "radio.de - Der Radioplayer : 64\n",
      "Free Music -  Player & Streamer  for Dropbox, OneDrive & Google Drive : 46\n",
      "NRJ Radio : 38\n",
      "Smart Music: Streaming Videos and Radio : 17\n",
      "BOSS Tuner : 13\n",
      "PetitLyrics : 0\n"
     ]
    }
   ],
   "source": [
    "for row in apple:\n",
    "    if row[11] == 'Music':\n",
    "        print(row[1],':', row[5])"
   ]
  },
  {
   "cell_type": "code",
   "execution_count": 69,
   "metadata": {},
   "outputs": [
    {
     "name": "stdout",
     "output_type": "stream",
     "text": [
      "The median of the Music rating counts is 3850.0\n"
     ]
    }
   ],
   "source": [
    "median_list = []\n",
    "for row in apple:\n",
    "    if row[11] == 'Music':\n",
    "        median_list.append(int(row[5]))\n",
    "        \n",
    "print('The median of the Music rating counts is ' + str(statistics.median(median_list)))"
   ]
  },
  {
   "cell_type": "markdown",
   "metadata": {},
   "source": [
    "The third most popular category is Music with 57326 average ratings, and the median is 3850, indicating a few very popular apps are dragging the average up.\n",
    "\n",
    "However again, even more so than the Reference category, we can see the actual list of apps in this category is large and the types of apps is broader. For example, we see music players (the majority of apps), music making apps (edjing Mix:DJ turntable to remix and scratch music and AutoRap). There is even an app just dedicated to the artist Nikki Minaj."
   ]
  },
  {
   "cell_type": "markdown",
   "metadata": {},
   "source": [
    "### Recommendation based on Apple data\n",
    "\n",
    "Given the information above, it may be worth developing an app that combines both Music and Reference material. \n",
    "<br>\n",
    "For example:\n",
    "- an app with music quizzes (gamification of the reference category)\n",
    "- music facts (perhaps specific to the user's favourite artists)\n",
    "- information about upcoming gigs in an area or online mentions, new videos, new tweets, so on. \n",
    "- suggests similar artists based on user's preferences\n",
    "\n",
    "As there are a lot of music playing apps available, one idea is do develop an app that could run alongside these and 'hear' what the user is listening to, providing content based on the current song/artist/genre etc. If we could integrate a player too, then the user would not need to leave our app to change songs etc."
   ]
  },
  {
   "cell_type": "code",
   "execution_count": null,
   "metadata": {},
   "outputs": [],
   "source": []
  },
  {
   "cell_type": "markdown",
   "metadata": {},
   "source": [
    "### Most installs by category in Google Playstore\n",
    "\n",
    "Using the same method as above for Apple, in the Google Playstore data we'll be looking at the 'Installs' column to get the number of installs per category. This will give us an indication of the popularity of apps within that category.\n",
    "\n",
    "#### Part One: Data collection"
   ]
  },
  {
   "cell_type": "code",
   "execution_count": 70,
   "metadata": {},
   "outputs": [
    {
     "name": "stdout",
     "output_type": "stream",
     "text": [
      "1,000,000+ : 15.733634311512414\n",
      "100,000+ : 11.557562076749434\n",
      "10,000,000+ : 10.553047404063205\n",
      "10,000+ : 10.191873589164786\n",
      "1,000+ : 8.397291196388263\n",
      "100+ : 6.918735891647855\n",
      "5,000,000+ : 6.817155756207676\n",
      "500,000+ : 5.564334085778781\n",
      "50,000+ : 4.774266365688487\n",
      "5,000+ : 4.514672686230249\n",
      "10+ : 3.5440180586907446\n",
      "500+ : 3.250564334085779\n",
      "50,000,000+ : 2.291196388261851\n",
      "100,000,000+ : 2.1331828442437923\n",
      "50+ : 1.9187358916478554\n",
      "5+ : 0.7900677200902935\n",
      "1+ : 0.5079006772009029\n",
      "500,000,000+ : 0.27088036117381487\n",
      "1,000,000,000+ : 0.2257336343115124\n",
      "0+ : 0.04514672686230248\n"
     ]
    }
   ],
   "source": [
    "android_installs = display_table(android, 5) #installs column"
   ]
  },
  {
   "cell_type": "markdown",
   "metadata": {},
   "source": [
    "The above gives us a good indication of the spread in installs/popularity of apps. Some 15% have over 1M downloads, for example. However this data isn't precise enough for our needs nor does it tell us much about the categories of interest. We'll dive deeper."
   ]
  },
  {
   "cell_type": "code",
   "execution_count": 71,
   "metadata": {},
   "outputs": [],
   "source": [
    "android_categories = freq_table(android, 1)"
   ]
  },
  {
   "cell_type": "code",
   "execution_count": 139,
   "metadata": {},
   "outputs": [
    {
     "name": "stdout",
     "output_type": "stream",
     "text": [
      "ART_AND_DESIGN : 18035183.3\n",
      "AUTO_AND_VEHICLES : 8846676.8\n",
      "BEAUTY : 4532841.7\n",
      "BOOKS_AND_REFERENCE : 277647376.7\n",
      "BUSINESS : 116150348.3\n",
      "COMICS : 7495191.7\n",
      "COMMUNICATION : 1839484366.8\n",
      "DATING : 23485792.8\n",
      "EDUCATION : 31475000.0\n",
      "ENTERTAINMENT : 164910000.0\n",
      "EVENTS : 2662193.3\n",
      "FINANCE : 75860522.0\n",
      "FOOD_AND_DRINK : 35289791.8\n",
      "HEALTH_AND_FITNESS : 190591400.3\n",
      "HOUSE_AND_HOME : 16200410.2\n",
      "LIBRARIES_AND_DEMO : 8832635.0\n",
      "LIFESTYLE : 82914071.5\n",
      "GAME : 2239478241.7\n",
      "FAMILY : 1032315948.3\n",
      "MEDICAL : 6288724.0\n",
      "SOCIAL : 914643650.3\n",
      "SHOPPING : 233389764.2\n",
      "PHOTOGRAPHY : 776044802.5\n",
      "SPORTS : 182538447.2\n",
      "TRAVEL_AND_LOCAL : 482450681.0\n",
      "TOOLS : 1350173912.3\n",
      "PERSONALIZATION : 254872648.0\n",
      "PRODUCTIVITY : 965271552.3\n",
      "PARENTING : 5245168.3\n",
      "WEATHER : 60048086.7\n",
      "VIDEO_PLAYERS : 655288620.0\n",
      "NEWS_AND_MAGAZINES : 394699376.7\n",
      "MAPS_AND_NAVIGATION : 83843463.3\n"
     ]
    }
   ],
   "source": [
    "for category in android_categories:\n",
    "    total = 0\n",
    "    len_category = 0\n",
    "    for row in android:\n",
    "        category_app = row[1]\n",
    "        if category_app == category:\n",
    "            n_installs = row[5]\n",
    "            n_installs = n_installs.replace('+','') # the Android 'Installs' column is a str containing + and , signs\n",
    "            n_installs = n_installs.replace(',','') # these chars need to be removed so we can convert to float and calculate.  \n",
    "            n_installs = float(n_installs)\n",
    "            total += n_installs\n",
    "            len_category += 1\n",
    "    avg_num_installs = round(total/len_genre, 1)\n",
    "    print(category, ':', avg_num_installs)"
   ]
  },
  {
   "attachments": {},
   "cell_type": "markdown",
   "metadata": {},
   "source": [
    "#### Part Two: Analysis\n",
    "\n",
    "From the above, the 10 most installed categories are in order:\n",
    "\n",
    "\n",
    "1. GAME\n",
    "2. COMMUNICATION\n",
    "3. TOOLS\n",
    "4. FAMILY\n",
    "5. PRODUCTIVITY\n",
    "6. SOCIAL\n",
    "7. PHOTOGRAPHY\n",
    "8. VIDEO_PLAYERS\n",
    "9. TRAVEL_AND_LOCAL\n",
    "10. NEWS_AND_MAGAZINES\n"
   ]
  },
  {
   "cell_type": "code",
   "execution_count": 73,
   "metadata": {},
   "outputs": [
    {
     "name": "stdout",
     "output_type": "stream",
     "text": [
      "WhatsApp Messenger : 1,000,000,000+\n",
      "Messenger for SMS : 10,000,000+\n",
      "My Tele2 : 5,000,000+\n",
      "imo beta free calls and text : 100,000,000+\n",
      "Contacts : 50,000,000+\n",
      "Call Free – Free Call : 5,000,000+\n",
      "Web Browser & Explorer : 5,000,000+\n",
      "Browser 4G : 10,000,000+\n",
      "MegaFon Dashboard : 10,000,000+\n",
      "ZenUI Dialer & Contacts : 10,000,000+\n",
      "Cricket Visual Voicemail : 10,000,000+\n",
      "TracFone My Account : 1,000,000+\n",
      "Xperia Link™ : 10,000,000+\n",
      "TouchPal Keyboard - Fun Emoji & Android Keyboard : 10,000,000+\n",
      "Skype Lite - Free Video Call & Chat : 5,000,000+\n",
      "My magenta : 1,000,000+\n",
      "Android Messages : 100,000,000+\n",
      "Google Duo - High Quality Video Calls : 500,000,000+\n",
      "Seznam.cz : 1,000,000+\n",
      "Antillean Gold Telegram (original version) : 100,000+\n",
      "AT&T Visual Voicemail : 10,000,000+\n",
      "GMX Mail : 10,000,000+\n",
      "Omlet Chat : 10,000,000+\n",
      "My Vodacom SA : 5,000,000+\n",
      "Microsoft Edge : 5,000,000+\n",
      "Messenger – Text and Video Chat for Free : 1,000,000,000+\n",
      "imo free video calls and chat : 500,000,000+\n",
      "Calls & Text by Mo+ : 5,000,000+\n",
      "free video calls and chat : 50,000,000+\n",
      "Skype - free IM & video calls : 1,000,000,000+\n",
      "Who : 100,000,000+\n",
      "GO SMS Pro - Messenger, Free Themes, Emoji : 100,000,000+\n",
      "Messaging+ SMS, MMS Free : 1,000,000+\n",
      "chomp SMS : 10,000,000+\n",
      "Glide - Video Chat Messenger : 10,000,000+\n",
      "Text SMS : 10,000,000+\n",
      "Talkray - Free Calls & Texts : 10,000,000+\n",
      "LINE: Free Calls & Messages : 500,000,000+\n",
      "GroupMe : 10,000,000+\n",
      "mysms SMS Text Messaging Sync : 1,000,000+\n",
      "2ndLine - Second Phone Number : 1,000,000+\n",
      "Google Chrome: Fast & Secure : 1,000,000,000+\n",
      "Firefox Browser fast & private : 100,000,000+\n",
      "Ninesky Browser : 1,000,000+\n",
      "Dolphin Browser - Fast, Private & Adblock🐬 : 50,000,000+\n",
      "UC Browser - Fast Download Private & Secure : 500,000,000+\n",
      "Ghostery Privacy Browser : 1,000,000+\n",
      "InBrowser - Incognito Browsing : 1,000,000+\n",
      "Lightning Web Browser : 500,000+\n",
      "Web Browser : 500,000+\n",
      "Contacts+ : 10,000,000+\n",
      "ExDialer - Dialer & Contacts : 10,000,000+\n",
      "PHONE for Google Voice & GTalk : 1,000,000+\n",
      "Safest Call Blocker : 1,000,000+\n",
      "Full Screen Caller ID : 5,000,000+\n",
      "Hiya - Caller ID & Block : 10,000,000+\n",
      "Mr. Number-Block calls & spam : 10,000,000+\n",
      "Should I Answer? : 1,000,000+\n",
      "RocketDial Dialer & Contacts : 1,000,000+\n",
      "CIA - Caller ID & Call Blocker : 5,000,000+\n",
      "Calls Blacklist - Call Blocker : 10,000,000+\n",
      "Call Control - Call Blocker : 5,000,000+\n",
      "True Contact - Real Caller ID : 1,000,000+\n",
      "Video Caller Id : 1,000,000+\n",
      "Sync.ME – Caller ID & Block : 5,000,000+\n",
      "Burner - Free Phone Number : 1,000,000+\n",
      "Caller ID + : 1,000,000+\n",
      "Gmail : 1,000,000,000+\n",
      "K-9 Mail : 5,000,000+\n",
      "myMail – Email for Hotmail, Gmail and Outlook Mail : 10,000,000+\n",
      "Email TypeApp - Mail App : 1,000,000+\n",
      "All Email Providers : 1,000,000+\n",
      "Newton Mail - Email App for Gmail, Outlook, IMAP : 1,000,000+\n",
      "GO Notifier : 10,000,000+\n",
      "Mail.Ru - Email App : 50,000,000+\n",
      "Mail1Click - Secure Mail : 10,000+\n",
      "Daum Mail - Next Mail : 5,000,000+\n",
      "mail.com mail : 1,000,000+\n",
      "SolMail - All-in-One email app : 500,000+\n",
      "Hangouts : 1,000,000,000+\n",
      "Vonage Mobile® Call Video Text : 1,000,000+\n",
      "JusTalk - Free Video Calls and Fun Video Chat : 5,000,000+\n",
      "Azar : 50,000,000+\n",
      "LokLok: Draw on a Lock Screen : 500,000+\n",
      "Discord - Chat for Gamers : 10,000,000+\n",
      "Messenger Lite: Free Calls & Messages : 100,000,000+\n",
      "AntennaPict β : 1,000,000+\n",
      "Talkatone: Free Texts, Calls & Phone Number : 10,000,000+\n",
      "Kik : 100,000,000+\n",
      "K-@ Mail - Email App : 100,000+\n",
      "KakaoTalk: Free Calls & Text : 100,000,000+\n",
      "K-9 Material (unofficial) : 5,000+\n",
      "M star Dialer : 100,000+\n",
      "Free WiFi Connect : 10,000,000+\n",
      "m:go BiH : 10,000+\n",
      "N-Com Wizard : 50,000+\n",
      "Opera Mini - fast web browser : 100,000,000+\n",
      "Opera Browser: Fast and Secure : 100,000,000+\n",
      "Opera Mini browser beta : 10,000,000+\n",
      "Psiphon Pro - The Internet Freedom VPN : 10,000,000+\n",
      "ICQ — Video Calls & Chat Messenger : 10,000,000+\n",
      "Telegram : 100,000,000+\n",
      "AT&T Messages for Tablet : 1,000,000+\n",
      "T-Mobile DIGITS : 100,000+\n",
      "Truecaller: Caller ID, SMS spam blocking & Dialer : 100,000,000+\n",
      "Portable Wi-Fi hotspot : 10,000,000+\n",
      "AT&T Call Protect : 5,000,000+\n",
      "U - Webinars, Meetings & Messenger : 500,000+\n",
      "UC Browser Mini -Tiny Fast Private & Secure : 100,000,000+\n",
      "/u/app : 10,000+\n",
      "[verify-U] VideoIdent : 10,000+\n",
      "Viber Messenger : 500,000,000+\n",
      "WeChat : 100,000,000+\n",
      "WhatsApp Business : 10,000,000+\n",
      "WhatsCall Free Global Phone Call App & Cheap Calls : 10,000,000+\n",
      "X Browser : 50,000+\n",
      "Yahoo Mail – Stay Organized : 100,000,000+\n",
      "Free Adblocker Browser - Adblock & Popup Blocker : 10,000,000+\n",
      "Adblock Browser for Android : 10,000,000+\n",
      "CM Browser - Ad Blocker , Fast Download , Privacy : 50,000,000+\n",
      "Adblock Plus for Samsung Internet - Browse safe. : 1,000,000+\n",
      "Ad Blocker Turbo - Adblocker Browser : 10,000+\n",
      "Brave Browser: Fast AdBlocker : 5,000,000+\n",
      "AG Contacts, Lite edition : 5,000+\n",
      "Oklahoma Ag Co-op Council : 10+\n",
      "Bee'ah Employee App : 100+\n",
      "tournaments and more.aj.2 : 100+\n",
      "Aj.Petra : 100+\n",
      "AK Phone : 5,000+\n",
      "PlacarTv Futebol Ao Vivo : 100,000+\n",
      "WiFi Access Point (hotspot) : 100,000+\n",
      "Access Point Names : 10,000+\n",
      "Puffin Web Browser : 10,000,000+\n",
      "ClanHQ : 10,000+\n",
      "Ear Agent: Super Hearing : 5,000,000+\n",
      "Google Voice : 10,000,000+\n",
      "Google Allo : 10,000,000+\n",
      "AU Call Blocker - Block Unwanted Calls Texts 2018 : 1,000+\n",
      "Baby Monitor AV : 100,000+\n",
      "AV Phone : 1,000+\n",
      "AW - free video calls and chat : 1,000,000+\n",
      "Katalogen.ax : 100+\n",
      "AZ Browser. Private & Download : 100,000+\n",
      "BA SALES : 1+\n",
      "BD Data Plan (3G & 4G) : 500,000+\n",
      "BD Internet Packages (Updated) : 50,000+\n",
      "BD Dialer : 10,000+\n",
      "BD Live Call : 5,000+\n",
      "Best Browser BD social networking : 10+\n",
      "Traffic signs BD : 500+\n",
      "BF Browser by Betfilter - Stop Gambling Today! : 10,000+\n",
      "My BF App : 50,000+\n",
      "BH Mail : 1,000+\n",
      "Zalo – Video Call : 50,000,000+\n",
      "BJ - Confidential : 10+\n",
      "BK Chat : 1,000+\n",
      "Of the wall Arapaho bk : 5+\n",
      "AC-BL : 50+\n",
      "BBM - Free Calls & Messages : 100,000,000+\n",
      "DMR BrandMeister Tool : 10,000+\n",
      "BBMoji - Your personalized BBM Stickers : 1,000,000+\n",
      "BN MALLORCA Radio : 1,000+\n",
      "BQ Partners : 1,000+\n",
      "BS-Mobile : 50+\n",
      "ATC Unico BS : 500+\n",
      "BT One Voice mobile access : 5,000+\n",
      "BT Messenger : 50,000+\n",
      "BT One Phone Mobile App : 10,000+\n",
      "SW-100.tch by Callstel : 1,000,000+\n",
      "BT MeetMe with Dolby Voice : 100,000+\n",
      "Bluetooth Auto Connect : 5,000,000+\n",
      "AudioBT: BT audio GPS/SMS/Text : 50,000+\n",
      "BV : 100+\n",
      "Feel Performer : 10,000+\n",
      "Tiny Call Confirm : 1,000,000+\n",
      "CB Radio Chat - for friends! : 1,000,000+\n",
      "CB On Mobile : 100,000+\n",
      "Virtual Walkie Talkie : 1,000,000+\n",
      "Channel 19 : 100,000+\n",
      "Cb browser : 50+\n",
      "CF Chat: Connecting Friends : 100+\n",
      "retteMi.ch : 5,000+\n",
      "Chrome Dev : 5,000,000+\n",
      "CJ Browser - Fast & Private : 100+\n",
      "CJ DVD Rentals : 100+\n",
      "CK Call NEW : 10+\n",
      "CM Transfer - Share any files with friends nearby : 5,000,000+\n",
      "mail.co.uk Mail : 5,000+\n",
      "ClanPlay: Community and Tools for Gamers : 1,000,000+\n",
      "CQ-Mobile : 1,000+\n",
      "CQ-Alert : 500+\n",
      "QRZ Assistant : 100,000+\n",
      "Pocket Prefix Plus : 10,000+\n",
      "Ham Radio Prefixes : 10,000+\n",
      "CS Customizer : 1,000+\n",
      "CS Browser | #1 & BEST BROWSER : 1,000+\n",
      "CS Browser Beta : 5,000+\n",
      "My Vodafone (GR) : 1,000,000+\n",
      "IZ2UUF Morse Koch CW : 50,000+\n",
      "C W Browser : 100+\n",
      "CW Bluetooth SPP : 100+\n",
      "CW BLE Peripheral Simulator : 500+\n",
      "Morse Code Reader : 100,000+\n",
      "Learn Morse Code - G0HYN Learn Morse : 5,000+\n",
      "Ring : 10,000+\n",
      "Hyundai CX Conference : 50+\n",
      "Cy Messenger : 100+\n",
      "Amadeus GR & CY : 100+\n",
      "Hlášenírozhlasu.cz : 10+\n",
      "SMS Sender - sluzba.cz : 1,000+\n",
      "WEB.DE Mail : 10,000,000+\n",
      "Your Freedom VPN Client : 5,000,000+\n",
      "CallApp: Caller ID, Blocker & Phone Call Recorder : 10,000,000+\n",
      "Rádio Sol Nascente DF : 500+\n",
      "DG Card : 100+\n",
      "Whoscall - Caller ID & Block : 10,000,000+\n",
      "DK Browser : 10+\n",
      "cluster.dk : 1,000+\n",
      "DK TEL Dialer : 50+\n",
      "DM for WhatsApp : 5,000+\n",
      "DM Talk New : 5,000+\n",
      "DM - The Offical Messaging App : 10+\n",
      "DM Tracker : 1,000+\n",
      "Call Blocker & Blacklist : 1,000+\n",
      "ReadyOp DT : 1,000+\n",
      "DU Browser—Browse fast & fun : 10,000,000+\n",
      "Caller ID & Call Block - DU Caller : 5,000,000+\n",
      "BlueDV AMBE : 1,000+\n",
      "DW Contacts & Phone & Dialer : 1,000,000+\n",
      "Deaf World DW : 10,000+\n",
      "Ham DX Cluster & Spots Finder : 5,000+\n",
      "Mircules DX Cluster Lite : 5,000+\n",
      "3G DZ Configuration : 50,000+\n",
      "chat dz : 100+\n",
      "love sms good morning : 5,000+\n",
      "Goodbox - Mega App : 100,000+\n",
      "Call Blocker - Blacklist, SMS Blocker : 1,000,000+\n",
      "[EF]ShoutBox : 100+\n",
      "Eg Call : 10,000+\n",
      "ei : 10+\n",
      "EJ messenger : 10+\n",
      "Ek IRA : 10+\n",
      "Orfox: Tor Browser for Android : 10,000,000+\n",
      "EO Mumbai : 10+\n",
      "EP RSS Reader : 100+\n",
      "Voxer Walkie Talkie Messenger : 10,000,000+\n",
      "ES-1 : 500+\n",
      "Hangouts Dialer - Call Phones : 10,000,000+\n",
      "EU Council : 1,000+\n",
      "Council Voting Calculator : 5,000+\n",
      "Have your say on Europe : 500+\n",
      "Programi podrške EU : 100+\n",
      "Inbox.eu : 10,000+\n",
      "Web Browser for Android : 1,000,000+\n",
      "Everbridge : 100,000+\n",
      "Best Auto Call Recorder Free : 500+\n",
      "EZ Wifi Notification : 10,000+\n",
      "Test Server SMS FA : 5+\n",
      "Lite for Facebook Messenger : 1,000,000+\n",
      "FC Browser - Focus Privacy Browser : 1,000+\n",
      "EHiN-FH conferenceapp : 100+\n",
      "Carpooling FH Hagenberg : 100+\n",
      "Wi-Fi Auto-connect : 1,000,000+\n",
      "Talkie - Wi-Fi Calling, Chats, File Sharing : 500,000+\n",
      "WeFi - Free Fast WiFi Connect & Find Wi-Fi Map : 1,000,000+\n",
      "Sat-Fi : 5,000+\n",
      "Portable Wi-Fi hotspot Free : 100,000+\n",
      "TownWiFi | Wi-Fi Everywhere : 500,000+\n",
      "Jazz Wi-Fi : 10,000+\n",
      "Sat-Fi Voice : 1,000+\n",
      "Free Wi-fi HotspoT : 50,000+\n",
      "FN Web Radio : 10+\n",
      "FNH Payment Info : 10+\n",
      "MARKET FO : 100+\n",
      "FO OP St-Nazaire : 100+\n",
      "FO SODEXO : 100+\n",
      "FO RCBT : 100+\n",
      "FO Interim : 100+\n",
      "FO PSA Sept-Fons : 100+\n",
      "FO AIRBUS TLSE : 1,000+\n",
      "FO STELIA Méaulte : 100+\n",
      "FO AIRBUS Nantes : 100+\n",
      "Firefox Focus: The privacy browser : 1,000,000+\n",
      "FP Connect : 100+\n",
      "FreedomPop Messaging Phone/SIM : 500,000+\n",
      "FP Live : 10+\n",
      "HipChat - beta version : 50,000+\n"
     ]
    }
   ],
   "source": [
    "for row in android:\n",
    "    if row[1] == 'COMMUNICATION':\n",
    "        print(row[0],':', row[5])"
   ]
  },
  {
   "cell_type": "markdown",
   "metadata": {},
   "source": [
    "This is a large category with a lot of apps, however many of them seem to be extremely popular e.g. WhatsApp. We'll try to separate these out to see how much of the landscape of this category they do take up."
   ]
  },
  {
   "cell_type": "code",
   "execution_count": 74,
   "metadata": {},
   "outputs": [
    {
     "name": "stdout",
     "output_type": "stream",
     "text": [
      "WhatsApp Messenger : 1,000,000,000+\n",
      "imo beta free calls and text : 100,000,000+\n",
      "Android Messages : 100,000,000+\n",
      "Google Duo - High Quality Video Calls : 500,000,000+\n",
      "Messenger – Text and Video Chat for Free : 1,000,000,000+\n",
      "imo free video calls and chat : 500,000,000+\n",
      "Skype - free IM & video calls : 1,000,000,000+\n",
      "Who : 100,000,000+\n",
      "GO SMS Pro - Messenger, Free Themes, Emoji : 100,000,000+\n",
      "LINE: Free Calls & Messages : 500,000,000+\n",
      "Google Chrome: Fast & Secure : 1,000,000,000+\n",
      "Firefox Browser fast & private : 100,000,000+\n",
      "UC Browser - Fast Download Private & Secure : 500,000,000+\n",
      "Gmail : 1,000,000,000+\n",
      "Hangouts : 1,000,000,000+\n",
      "Messenger Lite: Free Calls & Messages : 100,000,000+\n",
      "Kik : 100,000,000+\n",
      "KakaoTalk: Free Calls & Text : 100,000,000+\n",
      "Opera Mini - fast web browser : 100,000,000+\n",
      "Opera Browser: Fast and Secure : 100,000,000+\n",
      "Telegram : 100,000,000+\n",
      "Truecaller: Caller ID, SMS spam blocking & Dialer : 100,000,000+\n",
      "UC Browser Mini -Tiny Fast Private & Secure : 100,000,000+\n",
      "Viber Messenger : 500,000,000+\n",
      "WeChat : 100,000,000+\n",
      "Yahoo Mail – Stay Organized : 100,000,000+\n",
      "BBM - Free Calls & Messages : 100,000,000+\n"
     ]
    }
   ],
   "source": [
    "for row in android:\n",
    "    if row[1] == 'COMMUNICATION' and (row[5] == '1,000,000,000+'\n",
    "                                      or row[5] == '500,000,000+'\n",
    "                                      or row[5] == '100,000,000+'):\n",
    "        print(row[0],':',row[5])"
   ]
  },
  {
   "cell_type": "markdown",
   "metadata": {},
   "source": [
    "That's a lot of apps still, with some big names that are established and difficult to compete against, e.g. WhatsApp, Messenger, Skype.\n",
    "\n",
    "If we remove these apps, we find number of installs in this category is on average much smaller -- approx. 10x smaller!"
   ]
  },
  {
   "cell_type": "code",
   "execution_count": 75,
   "metadata": {},
   "outputs": [],
   "source": [
    "under_100_m = []\n",
    "for row in android:\n",
    "    n_installs = row[5]\n",
    "    n_installs = n_installs.replace('+','') # the Android 'Installs' column is a str containing + and , signs\n",
    "    n_installs = n_installs.replace(',','') # these chars need to be removed so we can convert to float and calculate.  \n",
    "    n_installs = float(n_installs)\n",
    "    if (row[1] == 'COMMUNICATION' and n_installs < 100000000):\n",
    "        under_100_m.append(n_installs)"
   ]
  },
  {
   "cell_type": "code",
   "execution_count": 76,
   "metadata": {},
   "outputs": [
    {
     "name": "stdout",
     "output_type": "stream",
     "text": [
      "3603485.3884615386\n"
     ]
    }
   ],
   "source": [
    "avg_under_100_m = sum(under_100_m)/len(under_100_m)\n",
    "print(avg_under_100_m)"
   ]
  },
  {
   "cell_type": "markdown",
   "metadata": {},
   "source": [
    "So Communication is giving us a misleading idea of how popular it is - it's dominated by a few extremely popular behemoths.\n",
    "\n",
    "We'll now look at Video Players in a similar way."
   ]
  },
  {
   "cell_type": "code",
   "execution_count": 77,
   "metadata": {},
   "outputs": [
    {
     "name": "stdout",
     "output_type": "stream",
     "text": [
      "YouTube : 1,000,000,000+\n",
      "All Video Downloader 2018 : 1,000,000+\n",
      "Video Downloader : 10,000,000+\n",
      "HD Video Player : 1,000,000+\n",
      "Iqiyi (for tablet) : 1,000,000+\n",
      "Video Player All Format : 10,000,000+\n",
      "Motorola Gallery : 100,000,000+\n",
      "Free TV series : 100,000+\n",
      "Video Player All Format for Android : 500,000+\n",
      "VLC for Android : 100,000,000+\n",
      "Code : 10,000,000+\n",
      "Vote for : 50,000,000+\n",
      "XX HD Video downloader-Free Video Downloader : 1,000,000+\n",
      "OBJECTIVE : 1,000,000+\n",
      "Music - Mp3 Player : 10,000,000+\n",
      "HD Movie Video Player : 1,000,000+\n",
      "YouCut - Video Editor & Video Maker, No Watermark : 5,000,000+\n",
      "Video Editor,Crop Video,Movie Video,Music,Effects : 1,000,000+\n",
      "YouTube Studio : 10,000,000+\n",
      "video player for android : 10,000,000+\n",
      "Vigo Video : 50,000,000+\n",
      "Google Play Movies & TV : 1,000,000,000+\n",
      "HTC Service － DLNA : 10,000,000+\n",
      "VPlayer : 1,000,000+\n",
      "MiniMovie - Free Video and Slideshow Editor : 50,000,000+\n",
      "Samsung Video Library : 50,000,000+\n",
      "OnePlus Gallery : 1,000,000+\n",
      "LIKE – Magic Video Maker & Community : 50,000,000+\n",
      "HTC Service—Video Player : 5,000,000+\n",
      "Play Tube : 1,000,000+\n",
      "Droid Zap by Motorola : 5,000,000+\n",
      "video player : 1,000,000+\n",
      "G Guide Program Guide (SOFTBANK EMOBILE WILLCOM version) : 1,000,000+\n",
      "Video.Guru - Video Maker : 1,000,000+\n",
      "HTC Gallery : 10,000,000+\n",
      "PowerDirector Video Editor App: 4K, Slow Mo & More : 10,000,000+\n",
      "Cartoon Network App : 10,000,000+\n",
      "Video Status : 1,000,000+\n",
      "Video Wallpaper Show : 500+\n",
      "SVT Play : 1,000,000+\n",
      "BluTV : 1,000,000+\n",
      "Tencent Video - Supporting the whole network : 1,000,000+\n",
      "Casper Ssinema : 10,000+\n",
      "amazer - Global Kpop Video Community : 100,000+\n",
      "MX Player : 500,000,000+\n",
      "Video Editor : 5,000,000+\n",
      "Omlet Arcade - Stream, Meet, Play : 10,000,000+\n",
      "VUE: video editor & camcorder : 1,000,000+\n",
      "Magisto Video Editor & Maker : 10,000,000+\n",
      "Dubsmash : 100,000,000+\n",
      "DU Recorder – Screen Recorder, Video Editor, Live : 50,000,000+\n",
      "KineMaster – Pro Video Editor : 50,000,000+\n",
      "Mobizen Screen Recorder for SAMSUNG : 10,000,000+\n",
      "Mobizen Screen Recorder for LG - Record, Capture : 1,000,000+\n",
      "M-Sight Pro : 5,000+\n",
      "Sketch 'n' go : 100,000+\n",
      "Q-See Plus : 5,000+\n",
      "Ustream : 10,000,000+\n",
      "VMate : 50,000,000+\n",
      "All Video Downloader : 10,000,000+\n",
      "VidPlay : 1,000,000+\n",
      "HD Video Downloader : 2018 Best video mate : 50,000,000+\n",
      "VivaVideo - Video Editor & Photo Movie : 100,000,000+\n",
      "VideoShow-Video Editor, Video Maker, Beauty Camera : 100,000,000+\n",
      "W Box VMS : 10,000+\n",
      "W Box VMS HD : 5,000+\n",
      "AB Repeat Player : 100,000+\n",
      "A-B repeater : 5,000+\n",
      "Ez Screen Recorder (no ad) : 100,000+\n",
      "Adobe Premiere Clip : 5,000,000+\n",
      "FilmoraGo - Free Video Editor : 10,000,000+\n",
      "ActionDirector Video Editor - Edit Videos Fast : 5,000,000+\n",
      "AJ Player : 100+\n",
      "AK Lodi Films : 100+\n",
      "WiFi Baby Monitor - NannyCam : 5,000,000+\n",
      "Ringdroid : 50,000,000+\n",
      "Multiple Videos at Same Time : 1,000,000+\n",
      "AV-IPTV : 1,000+\n",
      "HD Video Player (wmv,avi,mp4,flv,av,mpg,mkv)2017 : 10,000+\n",
      "HD Video Player - Video & MP3 Player | AV Player | : 5,000+\n",
      "EML UPnP-AV Control Point : 10,000+\n",
      "AW Screen Recorder No Root : 100,000+\n",
      "AX Player -Nougat Video Player : 1,000,000+\n",
      "AX Video Player : 50,000+\n",
      "Ay : 5,000+\n",
      "Ay Sabz Gunbad Waly : 1,000+\n",
      "iMediaShare – Photos & Music : 10,000,000+\n",
      "AZ Screen Recorder - No Root : 10,000,000+\n",
      "Movie Downloader Torrent : Az Torrent : 1,000+\n",
      "A-Z Screen Recorder - : 500+\n",
      "BC iptv player : 1,000+\n",
      "Bc Vod : 100+\n",
      "Funny videos for whatsapp : 1,000,000+\n",
      "BG video - floating video - background video : 5,000+\n",
      "BG MUSIC PLAYER - MUSIC PLAYER : 100+\n",
      "bgtime.tv : 50,000+\n",
      "YourTube Video Views BG : 500+\n",
      "Music for Youtube - Tube Music BG, Red+ : 1,000+\n",
      "BGCN TV : 100,000+\n",
      "AfreecaTV : 10,000,000+\n",
      "BK News Channel : 10,000+\n",
      "BR Video Player : 5,000+\n",
      "BR Series : 50,000+\n",
      "CINE BR : 1,000+\n",
      "iPlayIT for YouTube VR Player : 1,000,000+\n",
      "BSPlayer FREE : 10,000,000+\n",
      "BSPlayer ARMv7 VFP CPU support : 1,000,000+\n",
      "BS player remote : 10,000+\n",
      "BitTorrent®- Torrent Downloads : 10,000,000+\n",
      "Bx-WiFi-GI : 100+\n",
      "BZ Langenthaler Tagblatt : 1,000+\n",
      "Nero AirBurn : 100,000+\n",
      "CI Stream : 10+\n",
      "CJ Camcorder : 500+\n",
      "CJ VLC HD Remote (+ Stream) : 500,000+\n",
      "ACTIVEON CX & CX GOLD : 50,000+\n",
      "CX Monthly Tech News : 500+\n",
      "DG UPnP Player Free : 10,000+\n",
      "DG Screen Recorder : 500+\n",
      "DG Video Editor : 10,000+\n",
      "Video Downloader - for Instagram Repost App : 10,000,000+\n",
      "Quik – Free Video Editor for photos, clips, music : 10,000,000+\n",
      "FrostWire: Torrent Downloader & Music Player : 10,000,000+\n",
      "Inst Download - Video & Photo : 10,000,000+\n",
      "Vuze Torrent Downloader : 1,000,000+\n",
      "AndStream - Streaming Download : 1,000,000+\n",
      "DR TV : 500,000+\n",
      "DS photo : 1,000,000+\n",
      "DS video : 1,000,000+\n",
      "DU Privacy-hide apps、sms、file : 1,000,000+\n",
      "iSmart DV : 1,000,000+\n",
      "dv Prompter : 50,000+\n",
      "DV Lottery Photo : 5,000+\n",
      "MelifeCam-M : 10,000+\n",
      "GoPlus Cam : 500,000+\n",
      "GoAction : 100,000+\n",
      "4K VIDEO PLAYER ULTRA HD : 5,000+\n",
      "Downvids Helper - One touch DW : 10,000+\n",
      "DZ Popup Video Player : 5,000+\n",
      "EC MANAGER : 100+\n",
      "EF Sidekick : 5,000+\n",
      "ek tuhi : 10,000+\n",
      "Naruto Shippuden - Watch Free! : 10,000,000+\n",
      "ES Audio Player ( Shortcut ) : 100,000+\n",
      "Furrion ES Control : 5,000+\n",
      "ES-IPTV : 50,000+\n",
      "EZCast – Cast Media to TV : 1,000,000+\n",
      "EZ Web Video Cast | Chromecast : 100,000+\n",
      "EZ-SEE : 10,000+\n",
      "EZ TV Player : 10,000+\n",
      "EZ Usenet for Easynews® : 10,000+\n",
      "EZ game screen recorder with audio 1080P : 1,000+\n",
      "Videos downloader for Facebook:fast fb video saver : 5,000+\n",
      "Video Downloader for FB : Video Download with Link : 100,000+\n",
      "HD VideoDownlaoder For Fb : XXVideo Downloader : 10,000+\n",
      "HD Video Download for Facebook : 1,000,000+\n",
      "Art of F J Taylor : 10+\n",
      "Motorola FM Radio : 100,000,000+\n",
      "List iptv FR : 100+\n"
     ]
    }
   ],
   "source": [
    "for row in android:\n",
    "    if row[1] == 'VIDEO_PLAYERS':\n",
    "        print(row[0],':', row[5])"
   ]
  },
  {
   "cell_type": "code",
   "execution_count": 78,
   "metadata": {},
   "outputs": [
    {
     "name": "stdout",
     "output_type": "stream",
     "text": [
      "YouTube : 1,000,000,000+\n",
      "Motorola Gallery : 100,000,000+\n",
      "VLC for Android : 100,000,000+\n",
      "Google Play Movies & TV : 1,000,000,000+\n",
      "MX Player : 500,000,000+\n",
      "Dubsmash : 100,000,000+\n",
      "VivaVideo - Video Editor & Photo Movie : 100,000,000+\n",
      "VideoShow-Video Editor, Video Maker, Beauty Camera : 100,000,000+\n",
      "Motorola FM Radio : 100,000,000+\n"
     ]
    }
   ],
   "source": [
    "for row in android:\n",
    "    if row[1] == 'VIDEO_PLAYERS' and (row[5] == '1,000,000,000+'\n",
    "                                      or row[5] == '500,000,000+'\n",
    "                                      or row[5] == '100,000,000+'):\n",
    "        print(row[0],':',row[5])"
   ]
  },
  {
   "cell_type": "code",
   "execution_count": 79,
   "metadata": {},
   "outputs": [],
   "source": [
    "under_100_m = []\n",
    "for row in android:\n",
    "    n_installs = row[5]\n",
    "    n_installs = n_installs.replace('+','') # the Android 'Installs' column is a str containing + and , signs\n",
    "    n_installs = n_installs.replace(',','') # these chars need to be removed so we can convert to float and calculate.  \n",
    "    n_installs = float(n_installs)\n",
    "    if (row[1] == 'VIDEO_PLAYERS' and n_installs < 100000000):\n",
    "        under_100_m.append(n_installs)"
   ]
  },
  {
   "cell_type": "code",
   "execution_count": 80,
   "metadata": {},
   "outputs": [
    {
     "name": "stdout",
     "output_type": "stream",
     "text": [
      "5544878.133333334\n"
     ]
    }
   ],
   "source": [
    "avg_under_100_m = sum(under_100_m)/len(under_100_m)\n",
    "print(avg_under_100_m)"
   ]
  },
  {
   "cell_type": "markdown",
   "metadata": {},
   "source": [
    "Again, this category seems to be misleadingly popular in terms of installs, weighted toward a higher figure of 24727872 by a few very popular apps. The average installs without those popular apps is much smaller at 5544878.\n",
    "\n",
    "Similar to above, the video player apps market looks to be dominated by established brands which might make it hard for our app to be noticed."
   ]
  },
  {
   "cell_type": "code",
   "execution_count": 81,
   "metadata": {},
   "outputs": [
    {
     "name": "stdout",
     "output_type": "stream",
     "text": [
      "TouchNote: Cards & Gifts : 1,000,000+\n",
      "FreePrints – Free Photos Delivered : 1,000,000+\n",
      "Groovebook Photo Books & Gifts : 500,000+\n",
      "Moony Lab - Print Photos, Books & Magnets ™ : 50,000+\n",
      "LALALAB prints your photos, photobooks and magnets : 1,000,000+\n",
      "Snapfish : 1,000,000+\n",
      "Motorola Camera : 50,000,000+\n",
      "HD Camera - Best Cam with filters & panorama : 5,000,000+\n",
      "LightX Photo Editor & Photo Effects : 10,000,000+\n",
      "Sweet Snap - live filter, Selfie photo edit : 10,000,000+\n",
      "HD Camera - Quick Snap Photo & Video : 1,000,000+\n",
      "B612 - Beauty & Filter Camera : 100,000,000+\n",
      "Waterfall Photo Frames : 1,000,000+\n",
      "Photo frame : 100,000+\n",
      "Huji Cam : 5,000,000+\n",
      "Unicorn Photo : 1,000,000+\n",
      "HD Camera : 5,000,000+\n",
      "Makeup Editor -Beauty Photo Editor & Selfie Camera : 1,000,000+\n",
      "Makeup Photo Editor: Makeup Camera & Makeup Editor : 1,000,000+\n",
      "Moto Photo Editor : 5,000,000+\n",
      "InstaBeauty -Makeup Selfie Cam : 50,000,000+\n",
      "Garden Photo Frames - Garden Photo Editor : 500,000+\n",
      "Photo Frame : 10,000,000+\n",
      "Selfie Camera - Photo Editor & Filter & Sticker : 50,000,000+\n",
      "Sweet Snap Lite - live filter, Selfie photo editor : 500,000+\n",
      "Selfie Camera: Beauty Camera, Photo Editor,Collage : 1,000,000+\n",
      "Night Photo Frame : 1,000,000+\n",
      "YouCam Makeup - Magic Selfie Makeovers : 100,000,000+\n",
      "Selfie Photo Editor : 1,000,000+\n",
      "ASUS Gallery : 50,000,000+\n",
      "Kids Photo Frames : 1,000,000+\n",
      "Pencil Photo Sketch-Sketching Drawing Photo Editor : 1,000,000+\n",
      "Pretty Makeup, Beauty Photo Editor & Snappy Camera : 5,000,000+\n",
      "Photo Collage - Layout Editor : 10,000,000+\n",
      "DSLR Camera Hd Ultra Professional : 1,000,000+\n",
      "Snap Cat Face Camera : 1,000,000+\n",
      "Silent Camera [High Quality] : 5,000,000+\n",
      "Sweet Camera - Selfie Filters, Beauty Camera : 10,000,000+\n",
      "Photo Frames : 10,000,000+\n",
      "Sweet Selfie - selfie camera, beauty cam, photo edit : 100,000,000+\n",
      "Candy selfie - photo editor, live filter camera : 10,000,000+\n",
      "Open Camera : 10,000,000+\n",
      "Beauty Makeup – Photo Makeover : 1,000,000+\n",
      "Blur Image Background Editor (Blur Photo Editor) : 5,000,000+\n",
      "Muzy - Share photos & collages : 5,000,000+\n",
      "QuickPic - Photo Gallery with Google Drive Support : 10,000,000+\n",
      "Flickr : 10,000,000+\n",
      "Camera for Android : 10,000,000+\n",
      "Photo Mixer : 10,000,000+\n",
      "Wondershare PowerCam : 10,000,000+\n",
      "love : 1,000,000+\n",
      "KVAD Camera +: Selfie, Photo Filter, Grids : 1,000,000+\n",
      "Camera51 - a smarter camera : 1,000,000+\n",
      "InstaCam - Camera for Selfie : 1,000,000+\n",
      "Sweet Camera : 5,000,000+\n",
      "RetroSelfie - Selfie Editor : 10,000,000+\n",
      "Mega Photo : 1,000,000+\n",
      "Blur Image Background : 10,000,000+\n",
      "MIX by Camera360 : 5,000,000+\n",
      "Google Photos : 1,000,000,000+\n",
      "SuperPhoto - Effects & Filters : 5,000,000+\n",
      "Camera FV-5 Lite : 10,000,000+\n",
      "HD Camera Ultra : 10,000,000+\n",
      "Cameringo Lite. Filters Camera : 10,000,000+\n",
      "Camera ZOOM FX - FREE : 5,000,000+\n",
      "HD Camera Pro for Android : 1,000,000+\n",
      "GoPro (formerly Capture) : 10,000,000+\n",
      "Beauty Makeup Snappy Collage Photo Editor - Lidow : 10,000,000+\n",
      "Samsung SMART CAMERA App : 1,000,000+\n",
      "Square InPic - Photo Editor & Collage Maker : 50,000,000+\n",
      "High-Speed Camera (GIF,Burst) : 5,000,000+\n",
      "Camera MX - Free Photo & Video Camera : 10,000,000+\n",
      "EyeEm - Camera & Photo Filter : 10,000,000+\n",
      "Retrica : 100,000,000+\n",
      "VSCO : 50,000,000+\n",
      "PhotoWonder: Pro Beauty Photo Editor Collage Maker : 50,000,000+\n",
      "Photo Effects Pro : 50,000,000+\n",
      "Photo Editor Selfie Camera Filter & Mirror Image : 50,000,000+\n",
      "No Crop & Square for Instagram : 10,000,000+\n",
      "Picture Grid Builder : 5,000,000+\n",
      "HD Camera for Android : 10,000,000+\n",
      "Photo Studio : 10,000,000+\n",
      "Photo Editor Pro : 100,000,000+\n",
      "Photo Editor- : 5,000,000+\n",
      "Mirror Photo:Editor Collage (HD) : 10,000,000+\n",
      "Pic Stitch - #1 Collage Maker : 1,000,000+\n",
      "PhotoDirector Photo Editor App : 10,000,000+\n",
      "Pic Collage - Photo Editor : 50,000,000+\n",
      "Photo Editor by Aviary : 50,000,000+\n",
      "Video Editor Music,Cut,No Crop : 50,000,000+\n",
      "Pixlr – Free Photo Editor : 50,000,000+\n",
      "Photo Editor : 10,000,000+\n",
      "Photo Collage Maker : 10,000,000+\n",
      "Adobe Photoshop Express:Photo Editor Collage Maker : 50,000,000+\n",
      "BeautyPlus - Easy Photo Editor & Selfie Camera : 100,000,000+\n",
      "PicsArt Photo Studio: Collage Maker & Pic Editor : 100,000,000+\n",
      "Photo Collage Editor : 100,000,000+\n",
      "Color Touch Effects : 10,000,000+\n",
      "InstaSize Photo Filters & Collage Editor : 50,000,000+\n",
      "Z Camera - Photo Editor, Beauty Selfie, Collage : 100,000,000+\n",
      "PhotoGrid: Video & Pic Collage Maker, Photo Editor : 100,000,000+\n",
      "Candy Camera - selfie, beauty camera, photo editor : 100,000,000+\n",
      "YouCam Perfect - Selfie Photo Editor : 100,000,000+\n",
      "Pixgram- video photo slideshow : 5,000,000+\n",
      "Fotor Photo Editor - Photo Collage & Photo Effects : 10,000,000+\n",
      "Snapseed : 50,000,000+\n",
      "Camera360: Selfie Photo Editor with Funny Sticker : 100,000,000+\n",
      "Font Studio- Photo Texts Image : 10,000,000+\n",
      "Add Text To Photo : 1,000,000+\n",
      "Phonto - Text on Photos : 10,000,000+\n",
      "Collage&Add Stickers papelook : 5,000,000+\n",
      "Shutterfly: Free Prints, Photo Books, Cards, Gifts : 5,000,000+\n",
      "Photo Collage - InstaMag : 10,000,000+\n",
      "Meitu – Beauty Cam, Easy Photo Editor : 10,000,000+\n",
      "Bestie - Camera360 Selfie : 10,000,000+\n",
      "B Tiff Viewer : 100,000+\n",
      "F-Stop Gallery : 1,000,000+\n",
      "How Do I Look : 500,000+\n",
      "Keepsafe Photo Vault: Hide Private Photos & Videos : 50,000,000+\n",
      "MakeupPlus - Your Own Virtual Makeup Artist : 50,000,000+\n",
      "Pixlr-o-matic : 10,000,000+\n",
      "PixelLab - Text on pictures : 10,000,000+\n",
      "Leica Q : 10,000+\n",
      "S Photo Editor - Collage Maker , Photo Collage : 100,000,000+\n",
      "U Camera : Phone 6s OS 9 style : 500,000+\n",
      "V.360° Camera : 100,000+\n",
      "Profile w/o crop for Telegram : 10,000+\n",
      "Z Camera : 10,000+\n",
      "Six Pack Abs Photo Editor : 1,000,000+\n",
      "Brica BPRO5 AE : 500,000+\n",
      "AfterFocus : 10,000,000+\n",
      "DSLR camera - Auto Focus and Blur Professional : 10,000+\n",
      "AR effect : 100,000,000+\n",
      "ASUS PixelMaster Camera : 10,000,000+\n",
      "easyFocus : 500,000+\n",
      "Blur Image - DSLR focus effect : 5,000,000+\n",
      "Camera Pro : 1,000,000+\n",
      "HD Camera - silent shutter : 1,000,000+\n",
      "A Better Camera : 5,000,000+\n",
      "Auto Dslr Photo Effect : Auto Focus Effect : 1,000+\n",
      "PhotoScan by Google Photos : 10,000,000+\n",
      "Afterlight : 1,000,000+\n",
      "Blurfoto : Auto blur photo background & DSLR focus : 500,000+\n",
      "Blur : 1,000,000+\n",
      "Picai - Smart AI Camera : 100,000+\n",
      "Adobe Illustrator Draw : 5,000,000+\n",
      "FaceApp : 10,000,000+\n",
      "AI Image Recognizer (beta) : 500+\n",
      "AJ Cam : 100+\n",
      "Selfie With Champion AJ Style : 500+\n",
      "A.J. Styles HD Wallpapers 2018 : 100+\n",
      "Scoompa Video - Slideshow Maker and Video Editor : 10,000,000+\n",
      "AEE AP : 1,000+\n",
      "SNOW - AR Camera : 50,000,000+\n",
      "Add Watermark Free : 1,000,000+\n",
      "camera zoom moon : 500,000+\n",
      "AZ Camera - Manual Pro Cam : 100,000+\n",
      "BC Camera : 500+\n",
      "Photo Editor by BeFunky : 10,000,000+\n",
      "Be Fabulous PHOTO BOOTH : 10,000+\n",
      "Adobe Photoshop Fix : 5,000,000+\n",
      "Photo BG Changer : 1,000+\n",
      "BG Editor : 5+\n",
      "PhotoLayers〜Superimpose,Eraser : 10,000,000+\n",
      "Blender BG - Photo Blend With Background : 100+\n",
      "Auto Background Changer : 1,000,000+\n",
      "Change photo background : 5,000,000+\n",
      "Background Eraser : 10,000,000+\n",
      "Background Changer & Eraser : 500,000+\n",
      "Cut Out : Background Eraser and background changer : 1,000,000+\n",
      "Ultimate Background Eraser : 1,000,000+\n",
      "DSLR Photography Training apps : 100,000+\n",
      "Photo Editor - BPhoto : 1,000+\n",
      "24 megapixel hd camera : 100,000+\n",
      "BK Photography : 1,000+\n",
      "BL 1-Click Camera - Free : 10,000+\n",
      "BL Portfolio : 100+\n",
      "BQ Camera : 1,000,000+\n",
      "BT Camera : 500,000+\n",
      "BlitzWolf Shutter - BW Shutter : 50,000+\n",
      "Black & White Camera - Lovely BW : 100,000+\n",
      "Analog BW - Camera filter effect foto film retouch : 100+\n",
      "Hypocam : 1,000,000+\n",
      "B&W Photo Filter Editor : 50,000+\n",
      "CB VIDEO VISION : 100+\n",
      "CB Hair Png - New Hair Png For CB Editing : 500+\n",
      "CB Edits PNG & CB Backgrounds : 5,000+\n",
      "CG Prints : 100+\n",
      "Gold Teeth Photo Editor : 100,000+\n",
      "Night Camera Blur Effect : 10,000+\n",
      "Camera V7 24 Megapixel : 100,000+\n",
      "Leica CL : 1,000+\n",
      "Canon CameraWindow : 1,000,000+\n",
      "Cymera Camera- Photo Editor, Filter,Collage,Layout : 100,000,000+\n",
      "Camera360 Lite - Selfie Camera : 10,000,000+\n",
      "Wallpaper.cz : 100+\n",
      "Face Filter, Selfie Editor - Sweet Camera : 10,000,000+\n",
      "Visage Lab – face retouch : 5,000,000+\n",
      "LC-DB-LITE : 100+\n",
      "DC-014 : 500+\n",
      "Bokeh (Background defocus) : 10,000,000+\n",
      "Love Collage - Photo Editor : 10,000,000+\n",
      "LINE Camera - Photo editor : 100,000,000+\n",
      "DF Night Selfies : 10,000+\n",
      "My Photo Keyboard : 10,000,000+\n",
      "Story Saver for Instagram : 5,000,000+\n",
      "Boomerang from Instagram : 50,000,000+\n",
      "Insave-Download for Instagram : 1,000,000+\n",
      "DP Editor : 5,000+\n",
      "DP Maker : 100,000+\n",
      "Square DP For Whatsapp : 10,000+\n",
      "DP Creator for WhatsApp : 100,000+\n",
      "Dp For FB : 1,000+\n",
      "Magical Insta DP : 1,000+\n",
      "All Types DP & Status Maker : 1,000+\n",
      "DP Photo Editor : 10,000+\n",
      "Fifa World Cup 2018: Photo Frame Editor & DP Maker : 100,000+\n",
      "Insta Square Profile DP : 5,000+\n",
      "DP Status 2017 : 50,000+\n",
      "LightMeter Free : 1,000,000+\n",
      "DS-L4 Viewer : 1,000+\n",
      "DU GIF Maker: GIF Maker, Video to GIF & GIF Editor : 500,000+\n",
      "DU Collage Maker - Photo Collage & Grid & Layout : 100,000+\n",
      "Live DV : 1,000+\n",
      "DV-4036 by Somikon : 1,000+\n",
      "Touch DV : 50+\n",
      "XDV : 1,000,000+\n",
      "DV Lottery Photo Tool : 50,000+\n",
      "DV KING 4K : 100+\n",
      "Wifi Action Camera : 50,000+\n",
      "4K Ultra Camera : 100,000+\n",
      "DV KING : 100+\n",
      "DENVER ACTION CAM 3 : 10,000+\n",
      "SportLook : 100,000+\n",
      "Displaying You VR : 50+\n",
      "i am EB : 10+\n",
      "Retro Camera : 10,000,000+\n",
      "Footej Camera : 1,000,000+\n",
      "Video Maker with Photo and Music : 1,000,000+\n",
      "Phogy, 3D Camera : 1,000,000+\n",
      "Photo Lab Picture Editor: face effects, art frames : 50,000,000+\n",
      "MomentCam Cartoons & Stickers : 50,000,000+\n",
      "A+ Gallery - Photos & Videos : 10,000,000+\n",
      "Light Meter - EV : 1,000+\n",
      "FilterGrid - Cam&Photo Editor : 1,000,000+\n",
      "ez Share Android app : 100,000+\n",
      "Ez iCam : 1,000,000+\n",
      "Facejjang : 10,000,000+\n",
      "Cover Camera for FB : 100,000+\n",
      "FB Photographie : 1,000+\n",
      "FD Fotografia : 100+\n",
      "Ghost In Photo : 5,000,000+\n",
      "FH WiFiCam : 10,000+\n",
      "PIP Selfie Camera Photo Editor : 10,000,000+\n",
      "FL Drone 2 : 5,000+\n",
      "FN Cam : 10,000+\n",
      "PIP-Camera FN Photo Effect : 1,000+\n",
      "Photo Editor Collage Maker Pro : 100,000,000+\n",
      "Free Slideshow Maker & Video Editor : 10,000,000+\n",
      "Thumbnail Maker : 1,000,000+\n",
      "PhotoFunia : 10,000,000+\n"
     ]
    }
   ],
   "source": [
    "for row in android:\n",
    "    if row[1] == 'PHOTOGRAPHY':\n",
    "        print(row[0],':', row[5])"
   ]
  },
  {
   "cell_type": "code",
   "execution_count": 82,
   "metadata": {},
   "outputs": [
    {
     "name": "stdout",
     "output_type": "stream",
     "text": [
      "B612 - Beauty & Filter Camera : 100,000,000+\n",
      "YouCam Makeup - Magic Selfie Makeovers : 100,000,000+\n",
      "Sweet Selfie - selfie camera, beauty cam, photo edit : 100,000,000+\n",
      "Google Photos : 1,000,000,000+\n",
      "Retrica : 100,000,000+\n",
      "Photo Editor Pro : 100,000,000+\n",
      "BeautyPlus - Easy Photo Editor & Selfie Camera : 100,000,000+\n",
      "PicsArt Photo Studio: Collage Maker & Pic Editor : 100,000,000+\n",
      "Photo Collage Editor : 100,000,000+\n",
      "Z Camera - Photo Editor, Beauty Selfie, Collage : 100,000,000+\n",
      "PhotoGrid: Video & Pic Collage Maker, Photo Editor : 100,000,000+\n",
      "Candy Camera - selfie, beauty camera, photo editor : 100,000,000+\n",
      "YouCam Perfect - Selfie Photo Editor : 100,000,000+\n",
      "Camera360: Selfie Photo Editor with Funny Sticker : 100,000,000+\n",
      "S Photo Editor - Collage Maker , Photo Collage : 100,000,000+\n",
      "AR effect : 100,000,000+\n",
      "Cymera Camera- Photo Editor, Filter,Collage,Layout : 100,000,000+\n",
      "LINE Camera - Photo editor : 100,000,000+\n",
      "Photo Editor Collage Maker Pro : 100,000,000+\n"
     ]
    }
   ],
   "source": [
    "for row in android:\n",
    "    if row[1] == 'PHOTOGRAPHY' and (row[5] == '1,000,000,000+'\n",
    "                                      or row[5] == '500,000,000+'\n",
    "                                      or row[5] == '100,000,000+'):\n",
    "        print(row[0],':',row[5])"
   ]
  },
  {
   "cell_type": "code",
   "execution_count": 83,
   "metadata": {},
   "outputs": [
    {
     "name": "stdout",
     "output_type": "stream",
     "text": [
      "7670532.29338843\n"
     ]
    }
   ],
   "source": [
    "under_100_m = []\n",
    "for row in android:\n",
    "    n_installs = row[5]\n",
    "    n_installs = n_installs.replace('+','') # the Android 'Installs' column is a str containing + and , signs\n",
    "    n_installs = n_installs.replace(',','') # these chars need to be removed so we can convert to float and calculate.  \n",
    "    n_installs = float(n_installs)\n",
    "    if (row[1] == 'PHOTOGRAPHY' and n_installs < 100000000):\n",
    "        under_100_m.append(n_installs)\n",
    "        \n",
    "avg_under_100_m = sum(under_100_m)/len(under_100_m)\n",
    "print(avg_under_100_m)"
   ]
  },
  {
   "cell_type": "markdown",
   "metadata": {},
   "source": [
    "A similar story for the Photography category seems to be happening as for Communication and Video Players - Google photos, popular selfie and editing tools. Further exploration shows the same for Social Media too, with Facebook, Instagram, Twitter all dominating.\n",
    "\n",
    "The Entertainment has a wider range of apps including some more niche ones that look popular (Hamilton the offical app, Meme Creator, LOL pics, Colouring books) alongside more dominant examples of Netflix, Youtube Gaming).\n",
    "\n",
    "The books_reference categories looks the same, with some big names like Google Play Books and the Bible, but plenty of reasonably popular >1m installs nice books, such as free e-book readers. "
   ]
  },
  {
   "cell_type": "code",
   "execution_count": 84,
   "metadata": {},
   "outputs": [
    {
     "name": "stdout",
     "output_type": "stream",
     "text": [
      "E-Book Read - Read Book for free : 50,000+\n",
      "Download free book with green book : 100,000+\n",
      "Wikipedia : 10,000,000+\n",
      "Cool Reader : 10,000,000+\n",
      "Free Panda Radio Music : 100,000+\n",
      "Book store : 1,000,000+\n",
      "FBReader: Favorite Book Reader : 10,000,000+\n",
      "English Grammar Complete Handbook : 500,000+\n",
      "Free Books - Spirit Fanfiction and Stories : 1,000,000+\n",
      "Google Play Books : 1,000,000,000+\n",
      "AlReader -any text book reader : 5,000,000+\n",
      "Offline English Dictionary : 100,000+\n",
      "Offline: English to Tagalog Dictionary : 500,000+\n",
      "FamilySearch Tree : 1,000,000+\n",
      "Cloud of Books : 1,000,000+\n",
      "Recipes of Prophetic Medicine for free : 500,000+\n",
      "ReadEra – free ebook reader : 1,000,000+\n",
      "Anonymous caller detection : 10,000+\n",
      "Ebook Reader : 5,000,000+\n",
      "Litnet - E-books : 100,000+\n",
      "Read books online : 5,000,000+\n",
      "English to Urdu Dictionary : 500,000+\n",
      "eBoox: book reader fb2 epub zip : 1,000,000+\n",
      "English Persian Dictionary : 500,000+\n",
      "Flybook : 500,000+\n",
      "All Maths Formulas : 1,000,000+\n",
      "Ancestry : 5,000,000+\n",
      "HTC Help : 10,000,000+\n",
      "English translation from Bengali : 100,000+\n",
      "Pdf Book Download - Read Pdf Book : 100,000+\n",
      "Free Book Reader : 100,000+\n",
      "eBoox new: Reader for fb2 epub zip books : 50,000+\n",
      "Only 30 days in English, the guideline is guaranteed : 500,000+\n",
      "Moon+ Reader : 10,000,000+\n",
      "SH-02J Owner's Manual (Android 8.0) : 50,000+\n",
      "English-Myanmar Dictionary : 1,000,000+\n",
      "Golden Dictionary (EN-AR) : 1,000,000+\n",
      "All Language Translator Free : 1,000,000+\n",
      "Azpen eReader : 500,000+\n",
      "URBANO V 02 instruction manual : 100,000+\n",
      "Bible : 100,000,000+\n",
      "C Programs and Reference : 50,000+\n",
      "C Offline Tutorial : 1,000+\n",
      "C Programs Handbook : 50,000+\n",
      "Amazon Kindle : 100,000,000+\n",
      "Aab e Hayat Full Novel : 100,000+\n",
      "Aldiko Book Reader : 10,000,000+\n",
      "Google I/O 2018 : 500,000+\n",
      "R Language Reference Guide : 10,000+\n",
      "Learn R Programming Full : 5,000+\n",
      "R Programing Offline Tutorial : 1,000+\n",
      "Guide for R Programming : 5+\n",
      "Learn R Programming : 10+\n",
      "R Quick Reference Big Data : 1,000+\n",
      "V Made : 100,000+\n",
      "Wattpad 📖 Free Books : 100,000,000+\n",
      "Dictionary - WordWeb : 5,000,000+\n",
      "Guide (for X-MEN) : 100,000+\n",
      "AC Air condition Troubleshoot,Repair,Maintenance : 5,000+\n",
      "AE Bulletins : 1,000+\n",
      "Ae Allah na Dai (Rasa) : 10,000+\n",
      "50000 Free eBooks & Free AudioBooks : 5,000,000+\n",
      "Ag PhD Field Guide : 10,000+\n",
      "Ag PhD Deficiencies : 10,000+\n",
      "Ag PhD Planting Population Calculator : 1,000+\n",
      "Ag PhD Soybean Diseases : 1,000+\n",
      "Fertilizer Removal By Crop : 50,000+\n",
      "A-J Media Vault : 50+\n",
      "Al-Quran (Free) : 10,000,000+\n",
      "Al Quran (Tafsir & by Word) : 500,000+\n",
      "Al Quran Indonesia : 10,000,000+\n",
      "Al'Quran Bahasa Indonesia : 10,000,000+\n",
      "Al Quran Al karim : 1,000,000+\n",
      "Al-Muhaffiz : 50,000+\n",
      "Al Quran : EAlim - Translations & MP3 Offline : 5,000,000+\n",
      "Al-Quran 30 Juz free copies : 500,000+\n",
      "Koran Read &MP3 30 Juz Offline : 1,000,000+\n",
      "Hafizi Quran 15 lines per page : 1,000,000+\n",
      "Quran for Android : 10,000,000+\n",
      "Surah Al-Waqiah : 100,000+\n",
      "Hisnul Al Muslim - Hisn Invocations & Adhkaar : 100,000+\n",
      "Satellite AR : 1,000,000+\n",
      "Audiobooks from Audible : 100,000,000+\n",
      "Kinot & Eichah for Tisha B'Av : 10,000+\n",
      "AW Tozer Devotionals - Daily : 5,000+\n",
      "Tozer Devotional -Series 1 : 1,000+\n",
      "The Pursuit of God : 1,000+\n",
      "AY Sing : 5,000+\n",
      "Ay Hasnain k Nana Milad Naat : 10,000+\n",
      "Ay Mohabbat Teri Khatir Novel : 10,000+\n",
      "Arizona Statutes, ARS (AZ Law) : 1,000+\n",
      "Oxford A-Z of English Usage : 1,000,000+\n",
      "BD Fishpedia : 1,000+\n",
      "BD All Sim Offer : 10,000+\n",
      "Youboox - Livres, BD et magazines : 500,000+\n",
      "B&H Kids AR : 10,000+\n",
      "B y H Niños ES : 5,000+\n",
      "Dictionary.com: Find Definitions for English Words : 10,000,000+\n",
      "English Dictionary - Offline : 10,000,000+\n",
      "Bible KJV : 5,000,000+\n",
      "Borneo Bible, BM Bible : 10,000+\n",
      "MOD Black for BM : 100+\n",
      "BM Box : 1,000+\n",
      "Anime Mod for BM : 100+\n",
      "NOOK: Read eBooks & Magazines : 10,000,000+\n",
      "NOOK Audiobooks : 500,000+\n",
      "NOOK App for NOOK Devices : 500,000+\n",
      "Browsery by Barnes & Noble : 5,000+\n",
      "bp e-store : 1,000+\n",
      "Brilliant Quotes: Life, Love, Family & Motivation : 1,000,000+\n",
      "BR Ambedkar Biography & Quotes : 10,000+\n",
      "BU Alsace : 100+\n",
      "Catholic La Bu Zo Kam : 500+\n",
      "Khrifa Hla Bu (Solfa) : 10+\n",
      "Kristian Hla Bu : 10,000+\n",
      "SA HLA BU : 1,000+\n",
      "Learn SAP BW : 500+\n",
      "Learn SAP BW on HANA : 500+\n",
      "CA Laws 2018 (California Laws and Codes) : 5,000+\n",
      "Bootable Methods(USB-CD-DVD) : 10,000+\n",
      "cloudLibrary : 100,000+\n",
      "SDA Collegiate Quarterly : 500+\n",
      "Sabbath School : 100,000+\n",
      "Cypress College Library : 100+\n",
      "Stats Royale for Clash Royale : 1,000,000+\n",
      "GATE 21 years CS Papers(2011-2018 Solved) : 50+\n",
      "Learn CT Scan Of Head : 5,000+\n",
      "Easy Cv maker 2018 : 10,000+\n",
      "How to Write CV : 100,000+\n",
      "CW Nuclear : 1,000+\n",
      "CY Spray nozzle : 10+\n",
      "BibleRead En Cy Zh Yue : 5+\n",
      "CZ-Help : 5+\n",
      "Modlitební knížka CZ : 500+\n",
      "Guide for DB Xenoverse : 10,000+\n",
      "Guide for DB Xenoverse 2 : 10,000+\n",
      "Guide for IMS DB : 10+\n",
      "DC HSEMA : 5,000+\n",
      "DC Public Library : 1,000+\n",
      "Painting Lulu DC Super Friends : 1,000+\n",
      "Dictionary : 10,000,000+\n",
      "Fix Error Google Playstore : 1,000+\n",
      "D. H. Lawrence Poems FREE : 1,000+\n",
      "Bilingual Dictionary Audio App : 5,000+\n",
      "DM Screen : 10,000+\n",
      "wikiHow: how to do anything : 1,000,000+\n",
      "Dr. Doug's Tips : 1,000+\n",
      "Bible du Semeur-BDS (French) : 50,000+\n",
      "La citadelle du musulman : 50,000+\n",
      "DV 2019 Entry Guide : 10,000+\n",
      "DV 2019 - EDV Photo & Form : 50,000+\n",
      "DV 2018 Winners Guide : 1,000+\n",
      "EB Annual Meetings : 1,000+\n",
      "EC - AP & Telangana : 5,000+\n",
      "TN Patta Citta & EC : 10,000+\n",
      "AP Stamps and Registration : 10,000+\n",
      "CompactiMa EC pH Calibration : 100+\n",
      "EGW Writings 2 : 100,000+\n",
      "EGW Writings : 1,000,000+\n",
      "Bible with EGW Comments : 100,000+\n",
      "My Little Pony AR Guide : 1,000,000+\n",
      "SDA Sabbath School Quarterly : 500,000+\n",
      "Duaa Ek Ibaadat : 5,000+\n",
      "Spanish English Translator : 10,000,000+\n",
      "Dictionary - Merriam-Webster : 10,000,000+\n",
      "JW Library : 10,000,000+\n",
      "Oxford Dictionary of English : Free : 10,000,000+\n",
      "English Hindi Dictionary : 10,000,000+\n",
      "English to Hindi Dictionary : 5,000,000+\n",
      "EP Research Service : 1,000+\n",
      "Hymnes et Louanges : 100,000+\n",
      "EU Charter : 1,000+\n",
      "EU Data Protection : 1,000+\n",
      "EU IP Codes : 100+\n",
      "EW PDF : 5+\n",
      "BakaReader EX : 100,000+\n",
      "EZ Quran : 50,000+\n",
      "FA Part 1 & 2 Past Papers Solved Free – Offline : 5,000+\n",
      "La Fe de Jesus : 1,000+\n",
      "La Fe de Jesús : 500+\n",
      "Le Fe de Jesus : 500+\n",
      "Florida - Pocket Brainbook : 1,000+\n",
      "Florida Statutes (FL Code) : 1,000+\n",
      "English To Shona Dictionary : 10,000+\n",
      "Greek Bible FP (Audio) : 1,000+\n",
      "Golden Dictionary (FR-AR) : 500,000+\n",
      "Fanfic-FR : 5,000+\n",
      "Bulgarian French Dictionary Fr : 10,000+\n",
      "Chemin (fr) : 1,000+\n",
      "The SCP Foundation DB fr nn5n : 1,000+\n"
     ]
    }
   ],
   "source": [
    "for row in android:\n",
    "    if row[1] == 'BOOKS_AND_REFERENCE':\n",
    "        print(row[0],':', row[5])"
   ]
  },
  {
   "cell_type": "markdown",
   "metadata": {},
   "source": [
    "As reference is a popular category in the Apple Store too, it might be worth considering this category further. It's notable that Music is not in the Android categories list. Perhaps it is in the Genres column instead?"
   ]
  },
  {
   "cell_type": "code",
   "execution_count": 85,
   "metadata": {},
   "outputs": [
    {
     "name": "stdout",
     "output_type": "stream",
     "text": [
      "Magic Tiles 3 : 50,000,000+ , GAME\n",
      "Cardi B Piano Game : 10,000+ , GAME\n",
      "Perfect Piano : 50,000,000+ , GAME\n",
      "J Balvin Piano Tiles : 500+ , GAME\n",
      "Magic Tiles - TWICE Edition (K-Pop) : 100,000+ , GAME\n",
      "Magic Tiles - Blackpink Edition (K-Pop) : 100,000+ , GAME\n",
      "DJMAX TECHNIKA Q - Music Game : 100,000+ , GAME\n",
      "Au Mobile: Audition Chính Hiệu : 1,000,000+ , GAME\n",
      "AU Mobile Indonesia : 1,000,000+ , GAME\n",
      "Au-allstar for KR : 100,000+ , GAME\n",
      "Super Dancer VN : 500,000+ , GAME\n",
      "Love Dance : 1,000,000+ , GAME\n",
      "Avatar Musik : 1,000,000+ , GAME\n",
      "RIDE ZERO : 100,000+ , GAME\n",
      "Cytus : 5,000,000+ , GAME\n",
      "Just Dance Now : 10,000,000+ , GAME\n",
      "Piano Free - Keyboard with Magic Tiles Music Games : 50,000,000+ , GAME\n",
      "Dr Dre - Beatmaker : 10,000+ , GAME\n"
     ]
    }
   ],
   "source": [
    "for row in android[1:]:\n",
    "    genre = row[9] # genres column\n",
    "    if genre in 'Music':\n",
    "        print(row[0],':',row[5], ',', row[1])"
   ]
  },
  {
   "cell_type": "markdown",
   "metadata": {},
   "source": [
    "There are a mix of apps here -- many of which are very popoular (over 1m installs), and all of which are categorised as games.\n",
    "\n",
    "A lot of the names look like they are to do with a similar theme of Piano Simulators/games. E.g. Piano Free - Keyboard with Magic Tiles Music Games, Cardi B Piano Game, Perfect Piano, J Balvin Piano Tiles. A quick search of the playstore shows this type of game is saturated already.\n",
    "\n",
    "There doesn't seem to be anything that overlaps with the Reference genre at all. Given the popularity and broad landscape of the Reference genre, this could be a good niche in which to build an app."
   ]
  },
  {
   "cell_type": "markdown",
   "metadata": {},
   "source": [
    "## Conclusion\n",
    "\n",
    "In this analysis we've aimed to find a viable category in which to build a free app that will see success in both the Apple Store and the Google Play Store. The aim being that after establishing an audience in the app, we can build in paid elements.\n",
    "\n",
    "\n",
    "Looking at both the Apple Store and Google Play Store data, it's clear that a shared popular category is Reference material. Music is also a well-downloaded app category, and one that in particular does not seem to already have a saturated base for apps that overlap with Reference.\n",
    "\n",
    "It's my recommendation that an app that meets these two categories - Music and Reference - may prove popular. An example may be an app that utises music preferences and players from more popular apps - Spotify, Amazon Prime, etc - and allows users to learn about the playing artist while listening to their music. Another option may be to have an app which gamifies finding similar artists - e.g. searching for your favourite, and then playing a game to explore similar artists and learn more about them as they play."
   ]
  },
  {
   "cell_type": "code",
   "execution_count": null,
   "metadata": {},
   "outputs": [],
   "source": []
  }
 ],
 "metadata": {
  "kernelspec": {
   "display_name": "Python 3",
   "language": "python",
   "name": "python3"
  },
  "language_info": {
   "codemirror_mode": {
    "name": "ipython",
    "version": 3
   },
   "file_extension": ".py",
   "mimetype": "text/x-python",
   "name": "python",
   "nbconvert_exporter": "python",
   "pygments_lexer": "ipython3",
   "version": "3.8.2"
  }
 },
 "nbformat": 4,
 "nbformat_minor": 2
}
