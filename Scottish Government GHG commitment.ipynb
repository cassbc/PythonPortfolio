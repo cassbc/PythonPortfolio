{
 "cells": [
  {
   "cell_type": "markdown",
   "id": "551e1969",
   "metadata": {},
   "source": [
    "## Is Scotland meeting current emissions targets, and on track to meet future targets?\n",
    "\n",
    "\n",
    "The Scottish government has set a goal of reaching net-zero greenhouse gas (GHG) emissions against 1990 levels by the year 2045. The government has also set itself interim targets in order to achieve this, notably a 75% reduction by 2030.\n",
    "\n",
    "In this project we will:\n",
    "- look at Scottish Government GHG data from 1990 to 2020, and measure this against the government's own reported goals.\n",
    "    - as we have access to industry-level data, we can check which industries are best and worst performing in this regard too.\n",
    "    - we also can review the data by the specific pollutant, so it may also be interesting to look at the differences between each gas\n",
    "- interpolate the data out to 2030, to see if the Scottish government is on track to meet this goal.\n",
    "\n",
    "The dataset can be found here (entitled <i>Greenhouse Gas Dataset</i>):\n",
    "https://www.gov.scot/publications/scottish-greenhouse-gas-statistics-2020/documents/\n",
    "\n",
    "The Scottish government's goals can be found here:\n",
    "https://www.gov.scot/policies/climate-change/reducing-emissions/"
   ]
  },
  {
   "cell_type": "code",
   "execution_count": 12,
   "id": "5936eafa",
   "metadata": {},
   "outputs": [],
   "source": [
    "import pandas as pd\n",
    "import numpy as np"
   ]
  },
  {
   "cell_type": "code",
   "execution_count": 2,
   "id": "2d42ac05",
   "metadata": {},
   "outputs": [],
   "source": [
    "#importing the data\n",
    "df = pd.read_csv('ghg_scotland_2020.csv')"
   ]
  },
  {
   "cell_type": "code",
   "execution_count": 5,
   "id": "76b8b01b",
   "metadata": {},
   "outputs": [
    {
     "data": {
      "text/html": [
       "<div>\n",
       "<style scoped>\n",
       "    .dataframe tbody tr th:only-of-type {\n",
       "        vertical-align: middle;\n",
       "    }\n",
       "\n",
       "    .dataframe tbody tr th {\n",
       "        vertical-align: top;\n",
       "    }\n",
       "\n",
       "    .dataframe thead th {\n",
       "        text-align: right;\n",
       "    }\n",
       "</style>\n",
       "<table border=\"1\" class=\"dataframe\">\n",
       "  <thead>\n",
       "    <tr style=\"text-align: right;\">\n",
       "      <th></th>\n",
       "      <th>NCFormat</th>\n",
       "      <th>IPCC_code</th>\n",
       "      <th>IPCC_name</th>\n",
       "      <th>SourceName</th>\n",
       "      <th>CRF</th>\n",
       "      <th>Old_SG_name</th>\n",
       "      <th>CCP_category</th>\n",
       "      <th>Pollutant</th>\n",
       "      <th>EmissionYear</th>\n",
       "      <th>Emmisions (MtCO2e)</th>\n",
       "    </tr>\n",
       "  </thead>\n",
       "  <tbody>\n",
       "    <tr>\n",
       "      <th>0</th>\n",
       "      <td>Agriculture</td>\n",
       "      <td>1A4ci</td>\n",
       "      <td>1A4ci_Agriculture/Forestry/Fishing:Stationary</td>\n",
       "      <td>Agriculture - stationary combustion</td>\n",
       "      <td>Energy</td>\n",
       "      <td>Agriculture and related land use</td>\n",
       "      <td>Agriculture</td>\n",
       "      <td>CH4</td>\n",
       "      <td>BaseYear</td>\n",
       "      <td>0.000887</td>\n",
       "    </tr>\n",
       "    <tr>\n",
       "      <th>1</th>\n",
       "      <td>Agriculture</td>\n",
       "      <td>1A4ci</td>\n",
       "      <td>1A4ci_Agriculture/Forestry/Fishing:Stationary</td>\n",
       "      <td>Agriculture - stationary combustion</td>\n",
       "      <td>Energy</td>\n",
       "      <td>Agriculture and related land use</td>\n",
       "      <td>Agriculture</td>\n",
       "      <td>CH4</td>\n",
       "      <td>1990</td>\n",
       "      <td>0.000887</td>\n",
       "    </tr>\n",
       "    <tr>\n",
       "      <th>2</th>\n",
       "      <td>Agriculture</td>\n",
       "      <td>1A4ci</td>\n",
       "      <td>1A4ci_Agriculture/Forestry/Fishing:Stationary</td>\n",
       "      <td>Agriculture - stationary combustion</td>\n",
       "      <td>Energy</td>\n",
       "      <td>Agriculture and related land use</td>\n",
       "      <td>Agriculture</td>\n",
       "      <td>CH4</td>\n",
       "      <td>1995</td>\n",
       "      <td>0.000778</td>\n",
       "    </tr>\n",
       "  </tbody>\n",
       "</table>\n",
       "</div>"
      ],
      "text/plain": [
       "      NCFormat IPCC_code                                      IPCC_name  \\\n",
       "0  Agriculture     1A4ci  1A4ci_Agriculture/Forestry/Fishing:Stationary   \n",
       "1  Agriculture     1A4ci  1A4ci_Agriculture/Forestry/Fishing:Stationary   \n",
       "2  Agriculture     1A4ci  1A4ci_Agriculture/Forestry/Fishing:Stationary   \n",
       "\n",
       "                            SourceName     CRF  \\\n",
       "0  Agriculture - stationary combustion  Energy   \n",
       "1  Agriculture - stationary combustion  Energy   \n",
       "2  Agriculture - stationary combustion  Energy   \n",
       "\n",
       "                        Old_SG_name CCP_category Pollutant EmissionYear  \\\n",
       "0  Agriculture and related land use  Agriculture       CH4     BaseYear   \n",
       "1  Agriculture and related land use  Agriculture       CH4         1990   \n",
       "2  Agriculture and related land use  Agriculture       CH4         1995   \n",
       "\n",
       "   Emmisions (MtCO2e)  \n",
       "0            0.000887  \n",
       "1            0.000887  \n",
       "2            0.000778  "
      ]
     },
     "execution_count": 5,
     "metadata": {},
     "output_type": "execute_result"
    }
   ],
   "source": [
    "df.head(3)"
   ]
  },
  {
   "cell_type": "code",
   "execution_count": 4,
   "id": "e1ca88bf",
   "metadata": {},
   "outputs": [
    {
     "name": "stdout",
     "output_type": "stream",
     "text": [
      "<class 'pandas.core.frame.DataFrame'>\n",
      "RangeIndex: 22446 entries, 0 to 22445\n",
      "Data columns (total 10 columns):\n",
      " #   Column              Non-Null Count  Dtype  \n",
      "---  ------              --------------  -----  \n",
      " 0   NCFormat            22446 non-null  object \n",
      " 1   IPCC_code           22446 non-null  object \n",
      " 2   IPCC_name           22446 non-null  object \n",
      " 3   SourceName          22446 non-null  object \n",
      " 4   CRF                 22446 non-null  object \n",
      " 5   Old_SG_name         22446 non-null  object \n",
      " 6   CCP_category        22446 non-null  object \n",
      " 7   Pollutant           22446 non-null  object \n",
      " 8   EmissionYear        22446 non-null  object \n",
      " 9   Emmisions (MtCO2e)  22446 non-null  float64\n",
      "dtypes: float64(1), object(9)\n",
      "memory usage: 1.7+ MB\n"
     ]
    }
   ],
   "source": [
    "df.info()"
   ]
  },
  {
   "cell_type": "markdown",
   "id": "f075d6c0",
   "metadata": {},
   "source": [
    "The columns are as follows:\n",
    "- <b>Columns 0-6: </b> outline different ways of determining the industry being reported, including the Common Reporting Framework (CRF), Intergovernmental Panel on Climate Change (IPCC) and the Scottish Government (SG) categories. <i>While some categories go into more detail than others, we'll use the same category as the Scottish Government does in its reports, being the NCFormat column.</i>\n",
    "- <b>Pollutant: </b> the specific gas being measured\n",
    "- <b>EmissionYear: </b> the year the gas was measured\n",
    "- <b>Emissions (MtCO2e)</b>: the quantity of the gas in equivalent CO2, units in megatonnes."
   ]
  },
  {
   "cell_type": "markdown",
   "id": "f4429faf",
   "metadata": {},
   "source": [
    "### Cleaning"
   ]
  },
  {
   "cell_type": "code",
   "execution_count": 35,
   "id": "3cdb8379",
   "metadata": {},
   "outputs": [],
   "source": [
    "#converting all column names to lowercase\n",
    "df.columns = df.columns.str.lower()\n",
    "df.rename(columns={'emissionyear':'emission_year', 'emmisions (mtco2e)':'mt_co2e'}, inplace=True)"
   ]
  },
  {
   "cell_type": "code",
   "execution_count": 49,
   "id": "c6ded71a",
   "metadata": {},
   "outputs": [
    {
     "data": {
      "text/plain": [
       "Public                                      78\n",
       "Residential                                364\n",
       "Waste Management                           598\n",
       "Exports                                   1156\n",
       "Industrial processes                      1181\n",
       "Land use, land use change and forestry    1716\n",
       "Energy Supply                             2516\n",
       "Business                                  2964\n",
       "Transport                                 3166\n",
       "Agriculture                               8707\n",
       "Name: ncformat, dtype: int64"
      ]
     },
     "execution_count": 49,
     "metadata": {},
     "output_type": "execute_result"
    }
   ],
   "source": [
    "df['ncformat'].value_counts().sort_values()"
   ]
  },
  {
   "cell_type": "markdown",
   "id": "d77fbf34",
   "metadata": {},
   "source": [
    "Some industries larger than others by the look of it. Can confirm by breaking down and checking against a more nuanced category, e.g. sourcename."
   ]
  },
  {
   "cell_type": "code",
   "execution_count": 45,
   "id": "c99fb66a",
   "metadata": {},
   "outputs": [
    {
     "data": {
      "text/plain": [
       "Autogenerators                           208\n",
       "Excreta                                  208\n",
       "Managed Manure                           208\n",
       "Enteric                                  182\n",
       "Iron and steel - combustion plant        156\n",
       "                                        ... \n",
       "Crop Digestates - Direct                  10\n",
       "Crop Digestates - Indirect Deposition     10\n",
       "Crop Digestates - Indirect Leach          10\n",
       "Gas Terminal: Direct Process               6\n",
       "Oil Terminal: Direct Process               6\n",
       "Name: sourcename, Length: 481, dtype: int64"
      ]
     },
     "execution_count": 45,
     "metadata": {},
     "output_type": "execute_result"
    }
   ],
   "source": [
    "df['sourcename'].value_counts()"
   ]
  },
  {
   "cell_type": "markdown",
   "id": "d5b69ca1",
   "metadata": {},
   "source": [
    "Looks like that's fine. As long as each industry in question has data back to 1990, which should be listed as the 'BaseYear', then we can use it."
   ]
  },
  {
   "cell_type": "code",
   "execution_count": 52,
   "id": "9384a448",
   "metadata": {},
   "outputs": [
    {
     "data": {
      "text/plain": [
       "ncformat                                emission_year\n",
       "Public                                  1990               3\n",
       "Residential                             1990              14\n",
       "Waste Management                        1990              23\n",
       "Exports                                 1990              46\n",
       "Industrial processes                    1990              47\n",
       "Land use, land use change and forestry  1990              66\n",
       "Energy Supply                           1990             100\n",
       "Business                                1990             114\n",
       "Transport                               1990             120\n",
       "Agriculture                             1990             256\n",
       "Name: emission_year, dtype: int64"
      ]
     },
     "execution_count": 52,
     "metadata": {},
     "output_type": "execute_result"
    }
   ],
   "source": [
    "df[df['emission_year'] == '1990'].groupby('ncformat')['emission_year'].value_counts().sort_values()"
   ]
  },
  {
   "cell_type": "markdown",
   "id": "6813ad33",
   "metadata": {},
   "source": [
    "These are the same names as we saw above when calling the ncformat values. We also have no null values, so I am satisfied there is sufficient data available since 1990.\n",
    "\n",
    "\n",
    "## Analysis\n",
    "\n",
    "Let's now take a look at the 1990-2020 data to see if it is meeting the Scottish government goal for 2020. To measure this, we'll need to:\n",
    "\n",
    "- Find the 2020 goal for Scotland (it's 56% of the Baseline year, 1990 or 1995 depending on the industry/pollutant)\n",
    "\n",
    "- Sum the Mt_Co2e data for each industry\n",
    "- Plot the sum of each industy against each year\n",
    "- Create a dataset that measures the Scottish government's goal so we can compare in the same plot.\n",
    "\n",
    "### Import the Scottish Government's Goal"
   ]
  },
  {
   "cell_type": "markdown",
   "id": "4d1cc4a8",
   "metadata": {},
   "source": [
    "- Take the Baseyear Mt CO2e level for each pollutant and industry\n",
    "- Sum the baseyear levels for each industry or pollutant, as appropriate for analysis\n",
    "- Sum the levels for each year by industry/pollutant as appropriate, then assess the percentage difference between that figure and the baseline year figure."
   ]
  },
  {
   "cell_type": "code",
   "execution_count": null,
   "id": "b0645cfa",
   "metadata": {},
   "outputs": [],
   "source": []
  }
 ],
 "metadata": {
  "kernelspec": {
   "display_name": "Python 3 (ipykernel)",
   "language": "python",
   "name": "python3"
  },
  "language_info": {
   "codemirror_mode": {
    "name": "ipython",
    "version": 3
   },
   "file_extension": ".py",
   "mimetype": "text/x-python",
   "name": "python",
   "nbconvert_exporter": "python",
   "pygments_lexer": "ipython3",
   "version": "3.9.13"
  }
 },
 "nbformat": 4,
 "nbformat_minor": 5
}
