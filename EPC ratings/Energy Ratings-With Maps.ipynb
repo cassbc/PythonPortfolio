{
 "cells": [
  {
   "cell_type": "markdown",
   "id": "4f84bec6",
   "metadata": {},
   "source": [
    "# Data Exploration - Domestic Energy Ratings in England and Wales\n",
    "\n",
    "The aim of this project is to look at the energy ratings (EPC) of domestic properties in England and Wales. I want to analyse this data and present it in an interactive format (with maps). \n",
    "\n",
    "If possible, I would like to perform some machine learning and perhaps create an output website where people can look up the ratings of their area and see the trends for future years.\n",
    "\n",
    "The data is from the [UK Gov Live tables on Energy Performance of Buildings Certificates](https://www.gov.uk/government/statistical-data-sets/live-tables-on-energy-performance-of-buildings-certificates), table D3.\n",
    "\n",
    "\n",
    "\n",
    "### What questions can I answer with this dataset?\n",
    "- Which region is performing best wrt EPC ratings?\n",
    "- Which region is the worst performing wrt EPC ratings?\n",
    "\n",
    "- What is the overall trend for EPC ratings over time (increasing, decreasing, stangant)?\n",
    "\n",
    "\n",
    "Steps:"
   ]
  },
  {
   "cell_type": "code",
   "execution_count": null,
   "id": "80800879",
   "metadata": {},
   "outputs": [],
   "source": [
    "import pandas as pd\n",
    "import numpy as np\n",
    "import re\n",
    "\n",
    "import matplotlib.pyplot as plt\n",
    "import seaborn as sns"
   ]
  },
  {
   "cell_type": "code",
   "execution_count": null,
   "id": "90517a97",
   "metadata": {},
   "outputs": [],
   "source": [
    "csv = 'dataset_2.csv'\n",
    "data = pd.read_csv(csv)\n",
    "df = pd.DataFrame(data)"
   ]
  },
  {
   "cell_type": "code",
   "execution_count": null,
   "id": "201a7c60",
   "metadata": {},
   "outputs": [],
   "source": [
    "df.head(3)"
   ]
  },
  {
   "cell_type": "code",
   "execution_count": null,
   "id": "8e871022",
   "metadata": {},
   "outputs": [],
   "source": [
    "#making column names simpler to use. Create list, fix, replace columns with new list.\n",
    "\n",
    "cols = df.columns.to_list()\n",
    "\n",
    "#cleaning column names\n",
    "\n",
    "new_cols = []\n",
    "\n",
    "for item in cols:\n",
    "    item = item.lower()\n",
    "    item = re.sub(' ','_', item)\n",
    "    item = re.sub(r'\\(','', item)\n",
    "    item = re.sub(r'\\)','', item)\n",
    "    item = re.sub(r'/','', item)\n",
    "    item = re.sub(r'£','', item)\n",
    "    item = re.sub('__','_', item)\n",
    "    new_cols.append(item)\n",
    "\n",
    "df.columns = new_cols\n",
    "\n",
    "df.info()"
   ]
  },
  {
   "cell_type": "code",
   "execution_count": null,
   "id": "a68c7d46",
   "metadata": {},
   "outputs": [],
   "source": [
    "#converting the number columns to floats\n",
    "df.iloc[:,3:] = df.iloc[:,3:].replace(',','', regex=True).astype(float)"
   ]
  },
  {
   "cell_type": "code",
   "execution_count": null,
   "id": "5b2c8d66",
   "metadata": {},
   "outputs": [],
   "source": [
    "#converting the quarter format to datetime\n",
    "df['quarter'] = df['quarter'].replace('/', '-Q', regex=True)\n",
    "df['quarter'] = pd.to_datetime(df['quarter'])"
   ]
  },
  {
   "cell_type": "code",
   "execution_count": null,
   "id": "3f2dffbb",
   "metadata": {},
   "outputs": [],
   "source": [
    "df = df.replace(r'Unknown', np.NaN, regex=True)"
   ]
  },
  {
   "cell_type": "code",
   "execution_count": null,
   "id": "84df8f82",
   "metadata": {},
   "outputs": [],
   "source": [
    "df = df.dropna()\n",
    "df.head(3)"
   ]
  },
  {
   "cell_type": "code",
   "execution_count": null,
   "id": "9723ba37",
   "metadata": {},
   "outputs": [],
   "source": [
    "#How many local authorities are in the dataset?\n",
    "\n",
    "total_las = len(df['local_authority'].unique())\n",
    "\n",
    "print('Total Local Authorities = {}'.format(total_las))"
   ]
  },
  {
   "cell_type": "markdown",
   "id": "06e2b1a7",
   "metadata": {},
   "source": [
    "## Finding the best and worst performing regions\n",
    "\n",
    "Method:\n",
    "\n",
    "- A lodgement is taken of a new EPC rating when a property is sold or newly let. New lodgements are recorded each quarter.\n",
    "- The quarter doesn't really help me, so going to sum by year for each region\n",
    "- A simple count of lodgements wont' tell us much, as some regions will have more property changes than others. So, convert to percentages.\n",
    "- Find the regions with the highest percentages of A-graded EPC properties (and for each subsequent grade)"
   ]
  },
  {
   "cell_type": "code",
   "execution_count": null,
   "id": "dc302476",
   "metadata": {},
   "outputs": [],
   "source": [
    "df = df.copy(deep=True)"
   ]
  },
  {
   "cell_type": "code",
   "execution_count": null,
   "id": "4f9cfa58",
   "metadata": {},
   "outputs": [],
   "source": [
    "#summing by year for each region\n",
    "\n",
    "#getting the year\n",
    "df['year'] = df['quarter'].dt.year\n",
    "#new groupby dataframe to sum quarterly counts into yearly counts, by local authority\n",
    "df_years = df.groupby(['local_authority_code','local_authority','year'])[['number_of_lodgements','a','b','c','d','e','f','g','not_recorded']].sum()"
   ]
  },
  {
   "cell_type": "code",
   "execution_count": null,
   "id": "f3236d12",
   "metadata": {},
   "outputs": [],
   "source": [
    "df_years.head(3)"
   ]
  },
  {
   "cell_type": "code",
   "execution_count": null,
   "id": "3b631363",
   "metadata": {},
   "outputs": [],
   "source": [
    "df_years = df_years.reset_index()"
   ]
  },
  {
   "cell_type": "code",
   "execution_count": null,
   "id": "5b1f97c7",
   "metadata": {},
   "outputs": [],
   "source": [
    "#Adding a boolean column to see if a local authority is a London Borough\n",
    "#Using ONS labeling standards, local authority code E09 = London Boroughs\n",
    "#This column will help us understand the data better later on\n",
    "df_years['is_greater_london'] = df_years['local_authority_code'].str.contains('E09')"
   ]
  },
  {
   "cell_type": "code",
   "execution_count": null,
   "id": "72cfdd6b",
   "metadata": {},
   "outputs": [],
   "source": [
    "#Creating a function that will automatically calculate the\n",
    "#percentage of properties lodged under each grade for each local authority, every year\n",
    "\n",
    "ratings = ['a','b','c','d','e','f','g']\n",
    "\n",
    "def percentager(dataframe):\n",
    "    for item in ratings:\n",
    "        dataframe['percentage_'+item] = round(100*(dataframe[item]/dataframe['number_of_lodgements']),2)\n",
    "    return dataframe"
   ]
  },
  {
   "cell_type": "code",
   "execution_count": null,
   "id": "ce10cd25",
   "metadata": {},
   "outputs": [],
   "source": [
    "df_years = df_years.apply(percentager, axis=1)"
   ]
  },
  {
   "cell_type": "code",
   "execution_count": null,
   "id": "1c781e7b",
   "metadata": {},
   "outputs": [],
   "source": [
    "#Finding the top 10 performing regions - i.e. those with the most A rated EPC properties in 2022\n",
    "most_a = df_years[df_years['year'] == 2022].nlargest(10, 'percentage_a')\n",
    "most_a.head(5)"
   ]
  },
  {
   "cell_type": "code",
   "execution_count": null,
   "id": "bcc805c0",
   "metadata": {},
   "outputs": [],
   "source": [
    "#color = ['lime', 'limegreen', 'yellowgreen', 'gold', 'darkorange', 'orangered','red']"
   ]
  },
  {
   "cell_type": "code",
   "execution_count": null,
   "id": "9b35427b",
   "metadata": {},
   "outputs": [],
   "source": [
    "ax1 = sns.barplot(data=most_a, x='local_authority', y='percentage_a', color='lightgreen')\n",
    "plt.xlabel('Local Authority')\n",
    "plt.ylabel('Percentage')\n",
    "plt.xticks(rotation=90)\n",
    "plt.title('Percent of newly lodged EPC A-rated properties\\n Top 10 Local Authorities across England and Wales 2022')\n",
    "plt.show()\n",
    "plt.savefig('pct_a_rated.jpg')"
   ]
  },
  {
   "cell_type": "code",
   "execution_count": null,
   "id": "cfd17ade",
   "metadata": {},
   "outputs": [],
   "source": [
    "#Bottom 10 performing regions - i.e. those with the most G rated properties in 2022\n",
    "most_g = df_years[df_years['year'] == 2022].nlargest(10, ['percentage_g']).sort_values(by='percentage_g',\n",
    "                                                                                      ascending=False)\n",
    "most_g.head(3)"
   ]
  },
  {
   "cell_type": "code",
   "execution_count": null,
   "id": "1b1ebb8e",
   "metadata": {},
   "outputs": [],
   "source": [
    "ax2 = sns.barplot(data=most_g, x='local_authority', y='percentage_g', color='red')\n",
    "plt.xlabel('Local Authority')\n",
    "plt.ylabel('Percentage')\n",
    "plt.xticks(rotation=90)\n",
    "plt.title('Percent of newly lodged EPC G-rated properties\\n Worst performing Local Authorities across England and Wales 2022')\n",
    "plt.show()\n",
    "\n",
    "plt.savefig('pct_g_rated.jpg')"
   ]
  },
  {
   "cell_type": "markdown",
   "id": "ee3866c2",
   "metadata": {},
   "source": [
    "So far we can see that the 9/10 of the areas with the most newly-lodged A-rated EPC properties in 2022 were in London Boroughs. In contrast, 10/10 of the regions with the most newly-lodged G-rated EPC properties were outside London, with 50% of them in Wales, 3 in Devon and Cornwall, and 2 in the north of England (Ryedale, Eden).\n",
    "\n",
    "However, G-rated properites seem to take up quite a small number of new lodgements in 2022, at most just under 6%. Perhaps we should look at G and F rated properties together for more insight."
   ]
  },
  {
   "cell_type": "code",
   "execution_count": null,
   "id": "ac01dabd",
   "metadata": {},
   "outputs": [],
   "source": [
    "#Bottom 10 performing regions - i.e. those with the most F AND G combined rated properties in 2022\n",
    "df_years['f_and_g'] = df_years['percentage_f'] + df_years['percentage_g']\n",
    "\n",
    "most_f_and_g= df_years[df_years['year'] == 2022].nlargest(10,['f_and_g']).sort_values(by='f_and_g', ascending=False)\n",
    "most_f_and_g.head(3)"
   ]
  },
  {
   "cell_type": "code",
   "execution_count": null,
   "id": "0089e6f7",
   "metadata": {},
   "outputs": [],
   "source": [
    "ax3 = sns.barplot(data=most_f_and_g, x='local_authority', y='f_and_g', color='coral')\n",
    "plt.xlabel('Local Authority')\n",
    "plt.ylabel('Percentage')\n",
    "plt.xticks(rotation=90)\n",
    "plt.title('Percent of newly lodged EPC F and G-rated properties\\n Worst Performing Local Authorities across England and Wales 2022')\n",
    "plt.show()\n",
    "\n",
    "plt.savefig('pct_f_g_rated.jpg')"
   ]
  },
  {
   "cell_type": "code",
   "execution_count": null,
   "id": "8c74ca90",
   "metadata": {},
   "outputs": [],
   "source": [
    "mean_f_and_g = round(most_f_and_g['f_and_g'].mean(),2)\n",
    "print('Average % of lodgements in the the worst performing areas at rating F or G = {}%'.format(mean_f_and_g))"
   ]
  },
  {
   "cell_type": "code",
   "execution_count": null,
   "id": "6cd422fc",
   "metadata": {},
   "outputs": [],
   "source": [
    "#The mean without Scilly in the top 10\n",
    "mean_most_f_and_g_no_scilly = most_f_and_g.iloc[1:,-1].mean()\n",
    "print('Average % of lodgements in the the worst performing areas at rating F or G, excluding Isles of Scilly = {}%'.format(mean_most_f_and_g_no_scilly))"
   ]
  },
  {
   "cell_type": "code",
   "execution_count": null,
   "id": "c031b982",
   "metadata": {},
   "outputs": [],
   "source": [
    "df_2022 = df_years[df_years['year'] == 2022]\n",
    "df_2022['f_and_g'].describe()"
   ]
  },
  {
   "cell_type": "code",
   "execution_count": null,
   "id": "91e14b3b",
   "metadata": {},
   "outputs": [],
   "source": [
    "ax4 = plt.hist(df_2022['f_and_g'], bins=50)\n",
    "plt.title('Combined percent of F and G lodged properties in 2022')\n",
    "plt.show()\n",
    "\n",
    "plt.savefig('f_g_hist.jpg')"
   ]
  },
  {
   "cell_type": "markdown",
   "id": "d9d02f62",
   "metadata": {},
   "source": [
    "The named on our list of local authorities with the most F and G lodged properties combined in 2022 is not too different to the names listed in the G-only chart.\n",
    "\n",
    "However, we can see that in these worst-performing regions, F and G rated properties accounted for 20.02% of new lodgements in 2022. The average for the whole list in 2022 is 5.3%, and the standard deviation is 3.9%, so areas in these poorly performing regions are in the extreme end of the scale (shown in the histogram above)\n",
    "\n",
    "5 of the top 10 in this list are again are in Wales, two in Norfolk, two in the Cornwall area (Isles of Scilly being off the cost of Cornwall) and 1 in the north of England (Eden). None are in London.\n",
    "\n",
    "The Isles of Scilly is particulary poor performing and is bringing up the average slightly - without it, the mean of the remaining 9 local authorities in that list is 17.61%. However there is also quite a small number of lodgements happening in that area annually - the smallest number of all regions, as shown below."
   ]
  },
  {
   "cell_type": "code",
   "execution_count": null,
   "id": "66108723",
   "metadata": {},
   "outputs": [],
   "source": [
    "#Top 3 Local Authorities with the fewest lodgements in 2022\n",
    "df_years[df_years['year'] == 2022].nsmallest(3,'number_of_lodgements')"
   ]
  },
  {
   "cell_type": "markdown",
   "id": "e75874f4",
   "metadata": {},
   "source": [
    "As the mean shown above is around 5%, what percentage of regions with > 5% F and G rated properties are in London vs outside London?"
   ]
  },
  {
   "cell_type": "code",
   "execution_count": null,
   "id": "adabbd67",
   "metadata": {},
   "outputs": [],
   "source": [
    "#percentage to calculate\n",
    "pct = 5\n",
    "\n",
    "#filter for London data\n",
    "london_greater_than_x_pct_f_g = df_years[(df_years['year'] == 2022) \n",
    "                                   & (df_years['f_and_g'] >= pct)\n",
    "                                   & (df_years['is_greater_london'] == True)].sort_values(by='f_and_g')\n",
    "\n",
    "#filter for non-London data\n",
    "non_london_greater_than_x_pct_f_g = df_years[(df_years['year'] == 2022) \n",
    "                                   & (df_years['f_and_g'] >= pct)\n",
    "                                   & (df_years['is_greater_london'] == False)].sort_values(by='f_and_g')\n",
    "\n",
    "\n",
    "total_non_london = non_london_greater_than_x_pct_f_g['is_greater_london'].value_counts().sum()\n",
    "total_london = london_greater_than_x_pct_f_g['is_greater_london'].value_counts().sum()\n",
    "\n",
    "print('Number of non-London regions with >{}% F and G EPC rated properties registered in 2022 = {}'\n",
    "      .format(pct, total_non_london))\n",
    "\n",
    "\n",
    "print('Number of London regions with >{}% F and G EPC rated properties registered in 2022 = {}'\n",
    "      .format(pct, total_london))\n",
    "\n",
    "proportion_non_london = round(100*total_non_london/len(df_years['local_authority'].unique()),2)\n",
    "\n",
    "print('\\nProportion of regions with >5% F and G EPC rated properties registered in 2022 = {}'\n",
    "      .format(proportion_non_london))"
   ]
  },
  {
   "cell_type": "markdown",
   "id": "0d558aae",
   "metadata": {},
   "source": [
    "That's quite a staggering difference between the capital and the rest of England and Wales. Just 1 London borough had >5% of it's properties registered as F or G rated in 2022, compared to outside the capital where 127 regions, or over 1/3 of regions overall, had >5% of their registered properties in 2022 rated F or G.\n",
    "\n",
    "Shall we see how this trend has changed over the years?"
   ]
  },
  {
   "cell_type": "code",
   "execution_count": null,
   "id": "8e1a5bff",
   "metadata": {},
   "outputs": [],
   "source": [
    "#Creating a filter for London Boroughs versus non-London Local Authorities\n",
    "\n",
    "london_filter = df['local_authority_code'].str.contains('E09')\n",
    "\n",
    "#Finding the total london and non-london local authorities - helpful for later calcs\n",
    "total_london_las = len(df[london_filter].local_authority.unique())\n",
    "total_non_london_las = len(df[~london_filter].local_authority.unique())"
   ]
  },
  {
   "cell_type": "code",
   "execution_count": null,
   "id": "f43bc50b",
   "metadata": {},
   "outputs": [],
   "source": [
    "#Creating filtered df of London Boroughs with >5% F and G properties, all years\n",
    "london_f_g_x_pct = df_years[(df_years['f_and_g'] >= pct)\n",
    "                                   & (df_years['is_greater_london'] == True)].sort_values(by='f_and_g')\n",
    "\n",
    "#Creating filtered df of non-London LAs with >5% F and G properties, all years\n",
    "non_london_f_g_x_pct = df_years[(df_years['f_and_g'] >= pct)\n",
    "                                   & (df_years['is_greater_london'] == False)].sort_values(by='f_and_g')\n",
    "\n",
    "#Using groupby on both the above dfs to get a count of the local authorities by year\n",
    "grouped_london = london_f_g_x_pct.groupby('year', as_index=False)['local_authority'].value_counts()\n",
    "grouped_non_london = non_london_f_g_x_pct.groupby('year', as_index=False)['local_authority'].value_counts()\n",
    "\n",
    "#Summing the above counts\n",
    "london_f_and_g = pd.DataFrame(grouped_london).groupby('year', as_index=False)['count'].sum()\n",
    "non_london_f_and_g = pd.DataFrame(grouped_non_london).groupby('year', as_index=False)['count'].sum()\n",
    "\n",
    "#Calculating the percentage of F and G properties each year, out of the total Local Authorities for that area\n",
    "# (i.e. London, non-London)\n",
    "london_f_and_g['pct_of_total_las'] = round(100*london_f_and_g['count']/total_london_las,2)\n",
    "non_london_f_and_g['pct_of_total_las'] = round(100*non_london_f_and_g['count']/total_non_london_las,2)"
   ]
  },
  {
   "cell_type": "code",
   "execution_count": null,
   "id": "6fd5d8ba",
   "metadata": {},
   "outputs": [],
   "source": [
    "non_london_f_and_g"
   ]
  },
  {
   "cell_type": "code",
   "execution_count": null,
   "id": "ac9fdfda",
   "metadata": {},
   "outputs": [],
   "source": [
    "london_f_and_g"
   ]
  },
  {
   "cell_type": "code",
   "execution_count": null,
   "id": "1238afec",
   "metadata": {},
   "outputs": [],
   "source": [
    "ax5 = sns.barplot(data=london_f_and_g, x='year', y='pct_of_total_las'\n",
    "                  , color='purple', alpha=.5, label='London')\n",
    "ax6 = sns.barplot(data=non_london_f_and_g, x='year', y='pct_of_total_las'\n",
    "                  , color='pink', alpha=.5, label='Non-London')\n",
    "plt.xlabel('year')\n",
    "plt.xticks(rotation=90)\n",
    "plt.ylabel('percentage')\n",
    "plt.title('Percentage of London vs non-London Local Authorities\\nwith >5% EPC F and G rated properties by year')\n",
    "\n",
    "handles, labels = ax5.get_legend_handles_labels()\n",
    "ax5.legend(handles, labels)\n",
    "\n",
    "plt.show()\n",
    "\n",
    "plt.savefig('f_g_5pct.jpg')"
   ]
  },
  {
   "cell_type": "markdown",
   "id": "f6a97bbe",
   "metadata": {},
   "source": [
    "It looks as though both London and the wider non-London local authorities of England and Wales have seen a drop in the percentage of properties with F and G ratings over time. However, it looks like the trend has been more pronounced in London versus outside of London, particularly since 2019. Let's check that."
   ]
  },
  {
   "cell_type": "code",
   "execution_count": null,
   "id": "da2dbfaa",
   "metadata": {},
   "outputs": [],
   "source": [
    "#Find regression trend of both groups\n",
    "\n",
    "from sklearn.linear_model import LinearRegression\n",
    "\n",
    "# Training data\n",
    "X_london = london_f_and_g.loc[:, ['year']]  # features\n",
    "y_london = london_f_and_g.loc[:, 'pct_of_total_las']  # target\n",
    "\n",
    "# Train the model\n",
    "model = LinearRegression()\n",
    "model.fit(X_london, y_london)\n",
    "\n",
    "y_pred_london = pd.Series(model.predict(X_london), index=X_london.index)"
   ]
  },
  {
   "cell_type": "code",
   "execution_count": null,
   "id": "40483063",
   "metadata": {},
   "outputs": [],
   "source": [
    "# Training data\n",
    "X_non_london = non_london_f_and_g.loc[:, ['year']]  # features\n",
    "y_non_london = non_london_f_and_g.loc[:, 'pct_of_total_las']  # target\n",
    "\n",
    "# Train the model\n",
    "model = LinearRegression()\n",
    "model.fit(X_non_london, y_non_london)\n",
    "\n",
    "y_pred_non_london = pd.Series(model.predict(X_non_london), index=X_non_london.index)"
   ]
  },
  {
   "cell_type": "code",
   "execution_count": null,
   "id": "2b27abed",
   "metadata": {},
   "outputs": [],
   "source": [
    "#Replotting with the regression lines\n",
    "\n",
    "ax7 = y_pred_london.plot(label='London')\n",
    "ax8 = y_pred_non_london.plot(label='Non-London')\n",
    "\n",
    "\n",
    "ax5 = sns.barplot(data=london_f_and_g, x='year', y='pct_of_total_las'\n",
    "                  , color='purple', alpha=.5, label='London')\n",
    "ax6 = sns.barplot(data=non_london_f_and_g, x='year', y='pct_of_total_las'\n",
    "                  , color='pink', alpha=.5, label='Non-London')\n",
    "plt.xlabel('year')\n",
    "plt.xticks(rotation=90)\n",
    "plt.ylabel('percentage')\n",
    "plt.title('Percentage of London vs non-London Local Authorities\\nwith >5% EPC F and G rated properties by year')\n",
    "\n",
    "handles, labels = ax5.get_legend_handles_labels()\n",
    "ax5.legend(handles, labels)\n",
    "\n",
    "plt.show()\n",
    "\n",
    "plt.savefig('f_g_5ct_with_trends.jpg')"
   ]
  },
  {
   "cell_type": "markdown",
   "id": "bfa992b7",
   "metadata": {},
   "source": [
    "From the above lines of regression we can see that London Boroughs have had a steeper, and therefore faster and more dramatic decrease in the percentage of F and G EPC rated properties being registered per year, compared to Local Authorities outside of London. \n",
    "\n",
    "Both regions show a decline in the overall percent of F and G rated properties being registered, indicating that property energy efficiency over England and Wales is increasing. \n",
    "\n",
    "Note that this data just represents new EPC registrations yearly. EPCs are valid for 10 years, and are usually renewed when a property is sold or a new rental agreement is required, after the previous EPC has expired. So by no means does the data cover the whole property market, but it does give us a slice of the picture where property movement is taking place.\n",
    "\n",
    "In the London data we see a dramatic drop in the percentage of F and G rated properties between 2018 and 2019. It is possible that this reflects changes to the **Minimum Energy Efficiency Standards (MEES)**. Introduced in 2018 to England and Wales,  properites with new tenancy agreements (or renewals of existing tenants) are required to be EPC rating E or above. \n",
    "\n",
    "With London being such a popular place and renting common in the capital, it is reasonable that this dramatic drop in the years after 2018 reflects the scale of these reforms. Reference: [Gov.uk Guidance](https://www.gov.uk/guidance/domestic-private-rented-property-minimum-energy-efficiency-standard-landlord-guidance)\n",
    "\n",
    "One way we can confirm this is by seeing if E-rated or above properties have increased over time instead."
   ]
  },
  {
   "cell_type": "code",
   "execution_count": null,
   "id": "39dddef8",
   "metadata": {},
   "outputs": [],
   "source": [
    "#Want to creat a stacked bar chart of London Borough EPC ratings over the years\n",
    "\n",
    "#Creating a filter for just years and EPC rating percentages in London Boroughs\n",
    "needed_cols = ['year','percentage_a', 'percentage_b', 'percentage_c',\n",
    "           'percentage_d', 'percentage_e', 'percentage_f', 'percentage_g']\n",
    "\n",
    "pct_cols = ['percentage_a', 'percentage_b', 'percentage_c',\n",
    "           'percentage_d', 'percentage_e', 'percentage_f', 'percentage_g']\n",
    "\n",
    "london_pcts = df_years[(df_years['is_greater_london'] == True)][needed_cols]\n",
    "\n",
    "#As we have data for many Boroughs, will take the mean\n",
    "#percentage of properties in each rating per year, via a groupby\n",
    "london_pcts_mean = london_pcts.groupby('year')[pct_cols].mean()"
   ]
  },
  {
   "cell_type": "code",
   "execution_count": null,
   "id": "789fdea5",
   "metadata": {},
   "outputs": [],
   "source": [
    "london_pcts_mean.head(5)"
   ]
  },
  {
   "cell_type": "code",
   "execution_count": null,
   "id": "fe50fafb",
   "metadata": {},
   "outputs": [],
   "source": [
    "#I want to create a stacked barchart with the data above to visualise how the proportions change over time\n",
    "label = ['A', 'B', 'C', 'D', 'E', 'F', 'G']\n",
    "london_pcts_mean.plot(kind='bar', stacked=True, color=['green','limegreen', 'greenyellow','gold','orange',\n",
    "                                                       'tomato', 'firebrick'])\n",
    "plt.legend(bbox_to_anchor=(1.2,1), loc='upper right', labels=label, title='EPC Rating')\n",
    "plt.title('Mena London EPC rated property registrations annually')\n",
    "plt.ylabel('percent')\n",
    "\n",
    "plt.show()\n",
    "\n",
    "plt.savefig('stacked_london.jpg')"
   ]
  },
  {
   "cell_type": "markdown",
   "id": "b221b610",
   "metadata": {},
   "source": [
    "We can see from the above chart that London overall has seen an increase in the proportion of higher-grade properties being registered yearly, compared to properties with rating E or lower. It appears that properties with a C or D rating have become the most commonly registered groups since 2018, again coinciding with the introduction of MEES.\n",
    "\n",
    "I'll create the same chart for LAs outside of London and see how it compares"
   ]
  },
  {
   "cell_type": "code",
   "execution_count": null,
   "id": "78fcfce9",
   "metadata": {},
   "outputs": [],
   "source": [
    "#Filter for non-London Local Authorities\n",
    "non_london_pcts = df_years[(df_years['is_greater_london'] == False)][needed_cols]\n",
    "\n",
    "#As we have data for many LAs, will take the mean\n",
    "#percentage of properties in each rating per year, via a groupby\n",
    "non_london_pcts_mean = non_london_pcts.groupby('year')[pct_cols].mean()\n",
    "\n",
    "non_london_pcts_mean.plot(kind='bar', stacked=True, color=['green','limegreen', 'greenyellow','gold','orange',\n",
    "                                                       'tomato', 'firebrick'])\n",
    "plt.legend(bbox_to_anchor=(1.2,1), loc='upper right', labels=label, title='EPC Rating')\n",
    "plt.title('Non-London mean EPC rated property registrations')\n",
    "plt.ylabel('percent')\n",
    "\n",
    "plt.show()\n",
    "\n",
    "plt.savefig('stacked_non_london.jpg')"
   ]
  },
  {
   "cell_type": "markdown",
   "id": "89a6f350",
   "metadata": {},
   "source": [
    "Outside of London we see some similar trends to the above. For example, there is an increase in the proportion of properties with rating D or higher since around 2017. This is perhaps indicating that landlords outside the capital prepared earlier for the MEES regulations (though this is just speculative). \n",
    "\n",
    "Overall, E or lower rated properties are becoming a smaller proportion of the overall property stock outside of London, being displaced by D and C rated properties.\n",
    "\n",
    "One of the more notable differences between the London and non-London stacked charts is that A-rated properties are much more common in the capital. One explanation might be that upgrading a home's energy efficiency does not always come cheaply. The relative difference in wealth in London versus the rest of England and Wales may reflect the ability of landlords and homeowners in that region to invest in their homes to a greater degree than in regional areas. \n",
    "\n",
    "Another explanation could be that the very comepetitive element of London property market means that customers (in particular, property buyers) expect better standards from their properties, and have the ability to be fussier about energy ratings, leading to overall standards increasing.\n",
    "\n",
    "\n",
    "# Plotting the data on a map\n",
    "\n",
    "I now want to plot our EPC rating percentages for each local authority on a map, to get a clearer idea of the distribution of ratings across England and Wales geographically.\n",
    "\n",
    "I'll look at making a time lapse map of E, F and G rated properties over time by local authority. This will give us further insight into how the MEES regulations impacted properties across the two countries.\n",
    "\n",
    "I'm going to use GeoPandas to do this, with Local Authority boundary data from the Office of National Statistics. The data can be found [here](https://geoportal.statistics.gov.uk/datasets/ons::local-authority-districts-december-2021-uk-bfc-1/about) (I used the geojson file)"
   ]
  },
  {
   "cell_type": "code",
   "execution_count": null,
   "id": "89f87990",
   "metadata": {},
   "outputs": [],
   "source": [
    "#Create column for E, F and G\n",
    "\n",
    "df_years['efg'] = df_years['percentage_e'] + df_years['percentage_f'] + df_years['percentage_g']"
   ]
  },
  {
   "cell_type": "code",
   "execution_count": null,
   "id": "0434c61d",
   "metadata": {},
   "outputs": [],
   "source": [
    "#Let's create a dataset just for this work\n",
    "drop_cols = df_years.iloc[:,3:20]\n",
    "efg = df_years.drop(columns=drop_cols)"
   ]
  },
  {
   "cell_type": "code",
   "execution_count": null,
   "id": "dd0f181f",
   "metadata": {},
   "outputs": [],
   "source": [
    "efg.head(3)"
   ]
  },
  {
   "cell_type": "code",
   "execution_count": null,
   "id": "829542e0",
   "metadata": {},
   "outputs": [],
   "source": [
    "import geopandas as gpd"
   ]
  },
  {
   "cell_type": "code",
   "execution_count": null,
   "id": "99072335",
   "metadata": {},
   "outputs": [],
   "source": [
    "#Reading our geojson file\n",
    "\n",
    "gj = gpd.read_file('condensed_uk_local_authorities_2021.json')\n",
    "\n",
    "#Got a condensed version of the official one from: \n",
    "#https://github.com/thomasvalentine/Choropleth/blob/main/Local_Authority_Districts_(December_2021)_GB_BFC.json\n",
    "#Thank you!"
   ]
  },
  {
   "cell_type": "code",
   "execution_count": null,
   "id": "aec25e15",
   "metadata": {},
   "outputs": [],
   "source": [
    "#Checking the shape of the plots\n",
    "gj.plot(figsize=(3,3))"
   ]
  },
  {
   "cell_type": "markdown",
   "id": "6b73f3f1",
   "metadata": {},
   "source": [
    "We can see from the map plot above that the GeoJSON file includes all local authorities in the UK. Our EPC dataset is just for Wales and England, so we can drop the entries for Scotland and Northern Ireland."
   ]
  },
  {
   "cell_type": "code",
   "execution_count": null,
   "id": "0125b4d8",
   "metadata": {},
   "outputs": [],
   "source": [
    "#Removing Northern Irish and Scottish local authorities\n",
    "ni_scot_filters = (gj['LAD21CD'].str.startswith('N')) | (gj['LAD21CD'].str.startswith('S'))\n",
    "gj_ew_only = gj[~ni_scot_filters]\n",
    "gj_ew_only.shape"
   ]
  },
  {
   "cell_type": "code",
   "execution_count": null,
   "id": "31dfdfba",
   "metadata": {},
   "outputs": [],
   "source": [
    "#Check map looks OK - should show just English and Welsh local authorities now\n",
    "gj_ew_only.boundary.plot()"
   ]
  },
  {
   "cell_type": "code",
   "execution_count": null,
   "id": "7f5a03f1",
   "metadata": {
    "scrolled": true
   },
   "outputs": [],
   "source": [
    "gj.head(3)"
   ]
  },
  {
   "cell_type": "code",
   "execution_count": null,
   "id": "81e1d9b5",
   "metadata": {},
   "outputs": [],
   "source": [
    "import plotly.express as px\n",
    "\n",
    "from urllib.request import urlopen\n",
    "import json\n",
    "\n",
    "\n",
    "with urlopen('https://raw.githubusercontent.com/thomasvalentine/Choropleth/main/Local_Authority_Districts_(December_2021)_GB_BFC.json') as response:\n",
    "    local_authorities_json = json.load(response)\n",
    "\n",
    "lat = 53.16972805776037\n",
    "lon = -2.1522074544910885\n",
    "\n",
    "\n",
    "fig = px.choropleth_mapbox(df_years,\n",
    "                           geojson=local_authorities_json,\n",
    "                           locations='local_authority',\n",
    "                           color='efg',\n",
    "                           featureidkey=\"properties.LAD21NM\",\n",
    "                           color_continuous_scale=px.colors.sequential.OrRd,\n",
    "                           mapbox_style=\"carto-positron\",\n",
    "                           center={\"lat\": lat, \"lon\": lon},\n",
    "                           zoom=5.5,\n",
    "                           range_color=[0,70],\n",
    "                           animation_frame='year',\n",
    "                           labels={'efg':'Percent'},\n",
    "                           title='Percent of EPC E, F, and G properties registered annually'\n",
    "                          )\n",
    "\n",
    "fig.update_layout(margin={\"r\":0,\"t\":50,\"l\":0,\"b\":0})\n",
    "fig.write_html(\"EFG.html\") \n",
    "fig.show()\n"
   ]
  },
  {
   "cell_type": "markdown",
   "id": "eb637dc8",
   "metadata": {},
   "source": [
    "It looks like I am missing some data for some years/regions. A hover over the map shows the relevant counties are Buckinghamshire, West Northamptonshire and North Northamptonshire."
   ]
  },
  {
   "cell_type": "markdown",
   "id": "4a1c305e",
   "metadata": {},
   "source": [
    "Was this data in the original dataset? A quick check below:"
   ]
  },
  {
   "cell_type": "code",
   "execution_count": null,
   "id": "30edab8a",
   "metadata": {},
   "outputs": [],
   "source": [
    "#Our originally imported and cleaned dataframe was called df\n",
    "\n",
    "missing_data_las = df[(df['local_authority'] == 'Buckinghamshire') | \n",
    "         (df['local_authority'] == 'North Northamptonshire') |\n",
    "         (df['local_authority'] == 'West Northamptonshire')]\n",
    "missing_data_las['year'].unique()"
   ]
  },
  {
   "cell_type": "markdown",
   "id": "4cd34276",
   "metadata": {},
   "source": [
    "Looks like a 'no'! Those counties only have data since 2020 in the original dataset. That's OK, we can live without it."
   ]
  },
  {
   "cell_type": "code",
   "execution_count": null,
   "id": "0fe5c598",
   "metadata": {},
   "outputs": [],
   "source": [
    "df_years['abc'] = df_years['percentage_a'] + df_years['percentage_b'] + df_years['percentage_c']"
   ]
  },
  {
   "cell_type": "code",
   "execution_count": null,
   "id": "bfade153",
   "metadata": {},
   "outputs": [],
   "source": [
    "import plotly.express as px\n",
    "\n",
    "from urllib.request import urlopen\n",
    "import json\n",
    "\n",
    "\n",
    "with urlopen('https://raw.githubusercontent.com/thomasvalentine/Choropleth/main/Local_Authority_Districts_(December_2021)_GB_BFC.json') as response:\n",
    "    local_authorities_json = json.load(response)\n",
    "\n",
    "lat = 53.16972805776037\n",
    "lon = -2.1522074544910885\n",
    "\n",
    "\n",
    "fig = px.choropleth_mapbox(df_years,\n",
    "                           geojson=local_authorities_json,\n",
    "                           locations='local_authority',\n",
    "                           color='abc',\n",
    "                           featureidkey=\"properties.LAD21NM\",\n",
    "                           color_continuous_scale=\"Viridis\",\n",
    "                           mapbox_style=\"carto-positron\",\n",
    "                           center={\"lat\": lat, \"lon\": lon},\n",
    "                           zoom=5.5,\n",
    "                           range_color=[0,70],\n",
    "                           animation_frame='year',\n",
    "                           labels={'abc':'Percent'},\n",
    "                           title='Percent of EPC A, B, or C properties registered annually'\n",
    "                          )\n",
    "\n",
    "fig.update_layout(margin={\"r\":0,\"t\":50,\"l\":0,\"b\":0})\n",
    "fig.write_html(\"ABC.html\")                           \n",
    "fig.show()\n"
   ]
  },
  {
   "cell_type": "code",
   "execution_count": null,
   "id": "e8e53f19",
   "metadata": {},
   "outputs": [],
   "source": []
  }
 ],
 "metadata": {
  "kernelspec": {
   "display_name": "Python 3 (ipykernel)",
   "language": "python",
   "name": "python3"
  },
  "language_info": {
   "codemirror_mode": {
    "name": "ipython",
    "version": 3
   },
   "file_extension": ".py",
   "mimetype": "text/x-python",
   "name": "python",
   "nbconvert_exporter": "python",
   "pygments_lexer": "ipython3",
   "version": "3.9.13"
  }
 },
 "nbformat": 4,
 "nbformat_minor": 5
}
